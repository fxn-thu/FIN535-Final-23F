{
 "cells": [
  {
   "cell_type": "code",
   "execution_count": 1,
   "metadata": {},
   "outputs": [],
   "source": [
    "import numpy as np\n",
    "import pandas as pd\n",
    "import math\n",
    "import seaborn as sns\n",
    "from datetime import datetime\n",
    "import matplotlib.pyplot as plt\n",
    "from matplotlib.pyplot import cm\n",
    "import warnings\n",
    "warnings.filterwarnings(\"ignore\")"
   ]
  },
  {
   "cell_type": "code",
   "execution_count": 2,
   "metadata": {},
   "outputs": [
    {
     "data": {
      "text/plain": [
       "<module 'McExperiment' from 'd:\\\\OneDriveLenovoD\\\\OneDrive\\\\A_Fall23\\\\FIN535\\\\HW2023\\\\FIN535-Final-23F\\\\Dec20\\\\FIN535-Final-23F\\\\McExperiment.py'>"
      ]
     },
     "execution_count": 2,
     "metadata": {},
     "output_type": "execute_result"
    }
   ],
   "source": [
    "import McExperiment\n",
    "from McExperiment import *\n",
    "import importlib\n",
    "importlib.reload(McExperiment)"
   ]
  },
  {
   "cell_type": "code",
   "execution_count": 3,
   "metadata": {},
   "outputs": [],
   "source": [
    "data = pd.read_csv('data.csv')\n",
    "data['month'] = data['month'].apply(lambda x: datetime.strptime(x, '%Y-%m')) #assume each date per month is the last day\n",
    "data.set_index(['month'],inplace=True)"
   ]
  },
  {
   "cell_type": "code",
   "execution_count": 4,
   "metadata": {},
   "outputs": [
    {
     "data": {
      "text/html": [
       "<div>\n",
       "<style scoped>\n",
       "    .dataframe tbody tr th:only-of-type {\n",
       "        vertical-align: middle;\n",
       "    }\n",
       "\n",
       "    .dataframe tbody tr th {\n",
       "        vertical-align: top;\n",
       "    }\n",
       "\n",
       "    .dataframe thead th {\n",
       "        text-align: right;\n",
       "    }\n",
       "</style>\n",
       "<table border=\"1\" class=\"dataframe\">\n",
       "  <thead>\n",
       "    <tr style=\"text-align: right;\">\n",
       "      <th></th>\n",
       "      <th>x1</th>\n",
       "      <th>x2</th>\n",
       "      <th>x3</th>\n",
       "      <th>x4</th>\n",
       "      <th>x5</th>\n",
       "      <th>sharpe</th>\n",
       "      <th>mdd</th>\n",
       "      <th>uti</th>\n",
       "      <th>CE</th>\n",
       "      <th>sortino</th>\n",
       "    </tr>\n",
       "  </thead>\n",
       "  <tbody>\n",
       "    <tr>\n",
       "      <th>max uti</th>\n",
       "      <td>0.181262</td>\n",
       "      <td>1.024393</td>\n",
       "      <td>0.750000</td>\n",
       "      <td>0.75</td>\n",
       "      <td>-0.205655</td>\n",
       "      <td>1.097224</td>\n",
       "      <td>0.250001</td>\n",
       "      <td>0.006363</td>\n",
       "      <td>12.076599</td>\n",
       "      <td>1.583711</td>\n",
       "    </tr>\n",
       "    <tr>\n",
       "      <th>max sharpe</th>\n",
       "      <td>0.490185</td>\n",
       "      <td>0.509815</td>\n",
       "      <td>0.342315</td>\n",
       "      <td>0.75</td>\n",
       "      <td>-0.000000</td>\n",
       "      <td>1.552223</td>\n",
       "      <td>0.250000</td>\n",
       "      <td>0.005783</td>\n",
       "      <td>12.069595</td>\n",
       "      <td>2.142872</td>\n",
       "    </tr>\n",
       "    <tr>\n",
       "      <th>max sortino</th>\n",
       "      <td>0.484227</td>\n",
       "      <td>0.515773</td>\n",
       "      <td>0.356543</td>\n",
       "      <td>0.75</td>\n",
       "      <td>-0.000000</td>\n",
       "      <td>1.551894</td>\n",
       "      <td>0.250000</td>\n",
       "      <td>0.005807</td>\n",
       "      <td>12.069884</td>\n",
       "      <td>2.143256</td>\n",
       "    </tr>\n",
       "    <tr>\n",
       "      <th>min mdd</th>\n",
       "      <td>0.463338</td>\n",
       "      <td>0.536662</td>\n",
       "      <td>0.280175</td>\n",
       "      <td>0.75</td>\n",
       "      <td>-0.000000</td>\n",
       "      <td>1.510296</td>\n",
       "      <td>0.196292</td>\n",
       "      <td>0.005592</td>\n",
       "      <td>12.067296</td>\n",
       "      <td>2.096605</td>\n",
       "    </tr>\n",
       "  </tbody>\n",
       "</table>\n",
       "</div>"
      ],
      "text/plain": [
       "                   x1        x2        x3    x4        x5    sharpe       mdd  \\\n",
       "max uti      0.181262  1.024393  0.750000  0.75 -0.205655  1.097224  0.250001   \n",
       "max sharpe   0.490185  0.509815  0.342315  0.75 -0.000000  1.552223  0.250000   \n",
       "max sortino  0.484227  0.515773  0.356543  0.75 -0.000000  1.551894  0.250000   \n",
       "min mdd      0.463338  0.536662  0.280175  0.75 -0.000000  1.510296  0.196292   \n",
       "\n",
       "                  uti         CE   sortino  \n",
       "max uti      0.006363  12.076599  1.583711  \n",
       "max sharpe   0.005783  12.069595  2.142872  \n",
       "max sortino  0.005807  12.069884  2.143256  \n",
       "min mdd      0.005592  12.067296  2.096605  "
      ]
     },
     "execution_count": 4,
     "metadata": {},
     "output_type": "execute_result"
    }
   ],
   "source": [
    "# read in optimal allocation from excel \n",
    "def read_excel_rst(n_strat=4):\n",
    "    # return a table, row = objective, col = optimal allocation, and some critical stats\n",
    "    ratios = []\n",
    "    objs = []\n",
    "    for i in range(n_strat): # for each objective, which corresponds to each sheet\n",
    "        objs += [list(pd.read_excel('final sheet.xlsx', sheet_name=i).iloc[[11,13,15,17,19],8].values.astype('f'))]\n",
    "        ratio = list(pd.read_excel('final sheet.xlsx', sheet_name=i).iloc[2,7:12].values.astype('f'))\n",
    "        ratio[4] *= -1\n",
    "        ratios += [ratio]\n",
    "    opt_ratios = pd.DataFrame(ratios, index = ['max uti','max sharpe','max sortino','min mdd'], \n",
    "                  columns=['x1','x2','x3','x4','x5'])\n",
    "    opt_objs = pd.DataFrame(objs, index = ['max uti','max sharpe','max sortino','min mdd'],\\\n",
    "                        columns = ['sharpe','mdd','uti','CE','sortino'])\n",
    "    return pd.concat([opt_ratios, opt_objs],axis = 1)\n",
    "\n",
    "n_strat=4\n",
    "opt_excel_soln = read_excel_rst(n_strat)\n",
    "opt_excel_soln"
   ]
  },
  {
   "cell_type": "markdown",
   "metadata": {},
   "source": [
    "#### Note:\n",
    "\n",
    "excel results are quite different from the sim results because:\n",
    "- sim is not a good method and has many cons\n",
    "- max uti in sim result is max(cap after tax), excel is max mean(each log(1+simple return))\n",
    "- sim result's sharpe and sortino did not minus risk-free in the numerator\n",
    "- "
   ]
  },
  {
   "cell_type": "markdown",
   "metadata": {},
   "source": [
    "### Max log v-utility"
   ]
  },
  {
   "cell_type": "code",
   "execution_count": 5,
   "metadata": {},
   "outputs": [],
   "source": [
    "SAVE = 40000\n",
    "CAP = 50000\n",
    "g = 0.11\n",
    "MC = 500\n",
    "path_length = 120 # 10 year"
   ]
  },
  {
   "cell_type": "code",
   "execution_count": 6,
   "metadata": {},
   "outputs": [],
   "source": [
    "from tqdm import tqdm"
   ]
  },
  {
   "cell_type": "code",
   "execution_count": 8,
   "metadata": {},
   "outputs": [
    {
     "name": "stderr",
     "output_type": "stream",
     "text": [
      "100%|██████████| 4/4 [01:32<00:00, 23.14s/it]\n"
     ]
    }
   ],
   "source": [
    "Simu_table_lst = [] # simulated results before taking the avg\n",
    "cap_table_lst = [] # for the financial diamond construction\n",
    "Summary_table_lst = [] # after taking the avg of simulated results, then compute some critical stats\n",
    "\n",
    "for i in tqdm(range(n_strat)):\n",
    "    ratio = (opt_excel_soln.iloc[i,:5]).to_list()\n",
    "\n",
    "    # Get the analysis for end of 5Y/7Y/10Y \n",
    "    Simu_table, Simu_cap_table = Experiments(MC,path_length,data,CAP,SAVE,g,ratio,years=[60,84,120],tax=0)\n",
    "    Summary_table, cap_table = GetSummary(Simu_table, Simu_cap_table, path_length)\n",
    "    Summary_table = Summary_table.fillna(0)\n",
    "    Simu_table_lst += [Simu_table]\n",
    "    cap_table_lst += [cap_table]\n",
    "    Summary_table_lst += [Summary_table]"
   ]
  },
  {
   "cell_type": "code",
   "execution_count": 9,
   "metadata": {},
   "outputs": [
    {
     "data": {
      "text/html": [
       "<div>\n",
       "<style scoped>\n",
       "    .dataframe tbody tr th:only-of-type {\n",
       "        vertical-align: middle;\n",
       "    }\n",
       "\n",
       "    .dataframe tbody tr th {\n",
       "        vertical-align: top;\n",
       "    }\n",
       "\n",
       "    .dataframe thead th {\n",
       "        text-align: right;\n",
       "    }\n",
       "</style>\n",
       "<table border=\"1\" class=\"dataframe\">\n",
       "  <thead>\n",
       "    <tr style=\"text-align: right;\">\n",
       "      <th></th>\n",
       "      <th>Expected Cap</th>\n",
       "      <th>Std Cap</th>\n",
       "      <th>Exp Cap &lt; 500k</th>\n",
       "      <th>Prob &gt;= 500k</th>\n",
       "      <th>Expected Annual_sharpe</th>\n",
       "      <th>Expected Annual_sortino</th>\n",
       "      <th>Expected MDD</th>\n",
       "      <th>ret VaR</th>\n",
       "      <th>ret CVaR</th>\n",
       "      <th>cap VaR</th>\n",
       "      <th>cap CVaR</th>\n",
       "    </tr>\n",
       "  </thead>\n",
       "  <tbody>\n",
       "    <tr>\n",
       "      <th>5Y</th>\n",
       "      <td>429125.41</td>\n",
       "      <td>126525.97</td>\n",
       "      <td>369729.46</td>\n",
       "      <td>0.26</td>\n",
       "      <td>1.09</td>\n",
       "      <td>1.55</td>\n",
       "      <td>0.23</td>\n",
       "      <td>0.02</td>\n",
       "      <td>-0.07</td>\n",
       "      <td>-278478.24</td>\n",
       "      <td>-293705.44</td>\n",
       "    </tr>\n",
       "    <tr>\n",
       "      <th>7Y</th>\n",
       "      <td>802078.47</td>\n",
       "      <td>275525.00</td>\n",
       "      <td>444578.35</td>\n",
       "      <td>0.90</td>\n",
       "      <td>1.09</td>\n",
       "      <td>1.55</td>\n",
       "      <td>0.26</td>\n",
       "      <td>0.23</td>\n",
       "      <td>0.15</td>\n",
       "      <td>-114453.80</td>\n",
       "      <td>-144715.35</td>\n",
       "    </tr>\n",
       "    <tr>\n",
       "      <th>10Y</th>\n",
       "      <td>1768173.80</td>\n",
       "      <td>731623.81</td>\n",
       "      <td>0.00</td>\n",
       "      <td>1.00</td>\n",
       "      <td>1.07</td>\n",
       "      <td>1.52</td>\n",
       "      <td>1.59</td>\n",
       "      <td>0.63</td>\n",
       "      <td>0.43</td>\n",
       "      <td>192946.16</td>\n",
       "      <td>104981.40</td>\n",
       "    </tr>\n",
       "  </tbody>\n",
       "</table>\n",
       "</div>"
      ],
      "text/plain": [
       "     Expected Cap    Std Cap  Exp Cap < 500k  Prob >= 500k  \\\n",
       "5Y      429125.41  126525.97       369729.46          0.26   \n",
       "7Y      802078.47  275525.00       444578.35          0.90   \n",
       "10Y    1768173.80  731623.81            0.00          1.00   \n",
       "\n",
       "     Expected Annual_sharpe  Expected Annual_sortino  Expected MDD  ret VaR  \\\n",
       "5Y                     1.09                     1.55          0.23     0.02   \n",
       "7Y                     1.09                     1.55          0.26     0.23   \n",
       "10Y                    1.07                     1.52          1.59     0.63   \n",
       "\n",
       "     ret CVaR    cap VaR   cap CVaR  \n",
       "5Y      -0.07 -278478.24 -293705.44  \n",
       "7Y       0.15 -114453.80 -144715.35  \n",
       "10Y      0.43  192946.16  104981.40  "
      ]
     },
     "execution_count": 9,
     "metadata": {},
     "output_type": "execute_result"
    }
   ],
   "source": [
    "Summary_table_lst[0].round(2)"
   ]
  },
  {
   "cell_type": "markdown",
   "metadata": {},
   "source": [
    "#### Note:\n",
    "\n",
    "MDD in the table above is on capital level, whereas in excel MDD is on return level"
   ]
  },
  {
   "cell_type": "markdown",
   "metadata": {},
   "source": [
    "### Max Sharpe ratio"
   ]
  },
  {
   "cell_type": "code",
   "execution_count": 10,
   "metadata": {},
   "outputs": [
    {
     "data": {
      "text/html": [
       "<div>\n",
       "<style scoped>\n",
       "    .dataframe tbody tr th:only-of-type {\n",
       "        vertical-align: middle;\n",
       "    }\n",
       "\n",
       "    .dataframe tbody tr th {\n",
       "        vertical-align: top;\n",
       "    }\n",
       "\n",
       "    .dataframe thead th {\n",
       "        text-align: right;\n",
       "    }\n",
       "</style>\n",
       "<table border=\"1\" class=\"dataframe\">\n",
       "  <thead>\n",
       "    <tr style=\"text-align: right;\">\n",
       "      <th></th>\n",
       "      <th>Expected Cap</th>\n",
       "      <th>Std Cap</th>\n",
       "      <th>Exp Cap &lt; 500k</th>\n",
       "      <th>Prob &gt;= 500k</th>\n",
       "      <th>Expected Annual_sharpe</th>\n",
       "      <th>Expected Annual_sortino</th>\n",
       "      <th>Expected MDD</th>\n",
       "      <th>ret VaR</th>\n",
       "      <th>ret CVaR</th>\n",
       "      <th>cap VaR</th>\n",
       "      <th>cap CVaR</th>\n",
       "    </tr>\n",
       "  </thead>\n",
       "  <tbody>\n",
       "    <tr>\n",
       "      <th>5Y</th>\n",
       "      <td>409878.70</td>\n",
       "      <td>71643.04</td>\n",
       "      <td>393600.92</td>\n",
       "      <td>0.11</td>\n",
       "      <td>1.62</td>\n",
       "      <td>2.33</td>\n",
       "      <td>0.11</td>\n",
       "      <td>0.35</td>\n",
       "      <td>0.26</td>\n",
       "      <td>-221240.05</td>\n",
       "      <td>-240816.84</td>\n",
       "    </tr>\n",
       "    <tr>\n",
       "      <th>7Y</th>\n",
       "      <td>754636.35</td>\n",
       "      <td>143813.18</td>\n",
       "      <td>461965.00</td>\n",
       "      <td>0.98</td>\n",
       "      <td>1.63</td>\n",
       "      <td>2.33</td>\n",
       "      <td>0.12</td>\n",
       "      <td>0.72</td>\n",
       "      <td>0.53</td>\n",
       "      <td>-26250.38</td>\n",
       "      <td>-70837.69</td>\n",
       "    </tr>\n",
       "    <tr>\n",
       "      <th>10Y</th>\n",
       "      <td>1638333.89</td>\n",
       "      <td>360714.96</td>\n",
       "      <td>0.00</td>\n",
       "      <td>1.00</td>\n",
       "      <td>1.63</td>\n",
       "      <td>2.32</td>\n",
       "      <td>1.40</td>\n",
       "      <td>1.71</td>\n",
       "      <td>1.39</td>\n",
       "      <td>479976.41</td>\n",
       "      <td>441349.17</td>\n",
       "    </tr>\n",
       "  </tbody>\n",
       "</table>\n",
       "</div>"
      ],
      "text/plain": [
       "     Expected Cap    Std Cap  Exp Cap < 500k  Prob >= 500k  \\\n",
       "5Y      409878.70   71643.04       393600.92          0.11   \n",
       "7Y      754636.35  143813.18       461965.00          0.98   \n",
       "10Y    1638333.89  360714.96            0.00          1.00   \n",
       "\n",
       "     Expected Annual_sharpe  Expected Annual_sortino  Expected MDD  ret VaR  \\\n",
       "5Y                     1.62                     2.33          0.11     0.35   \n",
       "7Y                     1.63                     2.33          0.12     0.72   \n",
       "10Y                    1.63                     2.32          1.40     1.71   \n",
       "\n",
       "     ret CVaR    cap VaR   cap CVaR  \n",
       "5Y       0.26 -221240.05 -240816.84  \n",
       "7Y       0.53  -26250.38  -70837.69  \n",
       "10Y      1.39  479976.41  441349.17  "
      ]
     },
     "execution_count": 10,
     "metadata": {},
     "output_type": "execute_result"
    }
   ],
   "source": [
    "Summary_table_lst[1].round(2)"
   ]
  },
  {
   "cell_type": "markdown",
   "metadata": {},
   "source": [
    "### Max Sortino Ratio"
   ]
  },
  {
   "cell_type": "code",
   "execution_count": 11,
   "metadata": {},
   "outputs": [
    {
     "data": {
      "text/html": [
       "<div>\n",
       "<style scoped>\n",
       "    .dataframe tbody tr th:only-of-type {\n",
       "        vertical-align: middle;\n",
       "    }\n",
       "\n",
       "    .dataframe tbody tr th {\n",
       "        vertical-align: top;\n",
       "    }\n",
       "\n",
       "    .dataframe thead th {\n",
       "        text-align: right;\n",
       "    }\n",
       "</style>\n",
       "<table border=\"1\" class=\"dataframe\">\n",
       "  <thead>\n",
       "    <tr style=\"text-align: right;\">\n",
       "      <th></th>\n",
       "      <th>Expected Cap</th>\n",
       "      <th>Std Cap</th>\n",
       "      <th>Exp Cap &lt; 500k</th>\n",
       "      <th>Prob &gt;= 500k</th>\n",
       "      <th>Expected Annual_sharpe</th>\n",
       "      <th>Expected Annual_sortino</th>\n",
       "      <th>Expected MDD</th>\n",
       "      <th>ret VaR</th>\n",
       "      <th>ret CVaR</th>\n",
       "      <th>cap VaR</th>\n",
       "      <th>cap CVaR</th>\n",
       "    </tr>\n",
       "  </thead>\n",
       "  <tbody>\n",
       "    <tr>\n",
       "      <th>5Y</th>\n",
       "      <td>403668.14</td>\n",
       "      <td>70391.49</td>\n",
       "      <td>390686.83</td>\n",
       "      <td>0.09</td>\n",
       "      <td>1.58</td>\n",
       "      <td>2.26</td>\n",
       "      <td>0.11</td>\n",
       "      <td>0.29</td>\n",
       "      <td>0.21</td>\n",
       "      <td>-237162.02</td>\n",
       "      <td>-243809.20</td>\n",
       "    </tr>\n",
       "    <tr>\n",
       "      <th>7Y</th>\n",
       "      <td>735986.28</td>\n",
       "      <td>145938.29</td>\n",
       "      <td>469008.86</td>\n",
       "      <td>0.96</td>\n",
       "      <td>1.58</td>\n",
       "      <td>2.25</td>\n",
       "      <td>0.11</td>\n",
       "      <td>0.67</td>\n",
       "      <td>0.47</td>\n",
       "      <td>-42995.83</td>\n",
       "      <td>-55277.35</td>\n",
       "    </tr>\n",
       "    <tr>\n",
       "      <th>10Y</th>\n",
       "      <td>1607575.08</td>\n",
       "      <td>375689.04</td>\n",
       "      <td>0.00</td>\n",
       "      <td>1.00</td>\n",
       "      <td>1.59</td>\n",
       "      <td>2.26</td>\n",
       "      <td>1.36</td>\n",
       "      <td>1.23</td>\n",
       "      <td>1.00</td>\n",
       "      <td>423758.34</td>\n",
       "      <td>312169.97</td>\n",
       "    </tr>\n",
       "  </tbody>\n",
       "</table>\n",
       "</div>"
      ],
      "text/plain": [
       "     Expected Cap    Std Cap  Exp Cap < 500k  Prob >= 500k  \\\n",
       "5Y      403668.14   70391.49       390686.83          0.09   \n",
       "7Y      735986.28  145938.29       469008.86          0.96   \n",
       "10Y    1607575.08  375689.04            0.00          1.00   \n",
       "\n",
       "     Expected Annual_sharpe  Expected Annual_sortino  Expected MDD  ret VaR  \\\n",
       "5Y                     1.58                     2.26          0.11     0.29   \n",
       "7Y                     1.58                     2.25          0.11     0.67   \n",
       "10Y                    1.59                     2.26          1.36     1.23   \n",
       "\n",
       "     ret CVaR    cap VaR   cap CVaR  \n",
       "5Y       0.21 -237162.02 -243809.20  \n",
       "7Y       0.47  -42995.83  -55277.35  \n",
       "10Y      1.00  423758.34  312169.97  "
      ]
     },
     "execution_count": 11,
     "metadata": {},
     "output_type": "execute_result"
    }
   ],
   "source": [
    "Summary_table_lst[2].round(2)"
   ]
  },
  {
   "cell_type": "markdown",
   "metadata": {},
   "source": [
    "### Min max drawdown"
   ]
  },
  {
   "cell_type": "code",
   "execution_count": 12,
   "metadata": {},
   "outputs": [
    {
     "data": {
      "text/html": [
       "<div>\n",
       "<style scoped>\n",
       "    .dataframe tbody tr th:only-of-type {\n",
       "        vertical-align: middle;\n",
       "    }\n",
       "\n",
       "    .dataframe tbody tr th {\n",
       "        vertical-align: top;\n",
       "    }\n",
       "\n",
       "    .dataframe thead th {\n",
       "        text-align: right;\n",
       "    }\n",
       "</style>\n",
       "<table border=\"1\" class=\"dataframe\">\n",
       "  <thead>\n",
       "    <tr style=\"text-align: right;\">\n",
       "      <th></th>\n",
       "      <th>Expected Cap</th>\n",
       "      <th>Std Cap</th>\n",
       "      <th>Exp Cap &lt; 500k</th>\n",
       "      <th>Prob &gt;= 500k</th>\n",
       "      <th>Expected Annual_sharpe</th>\n",
       "      <th>Expected Annual_sortino</th>\n",
       "      <th>Expected MDD</th>\n",
       "      <th>ret VaR</th>\n",
       "      <th>ret CVaR</th>\n",
       "      <th>cap VaR</th>\n",
       "      <th>cap CVaR</th>\n",
       "    </tr>\n",
       "  </thead>\n",
       "  <tbody>\n",
       "    <tr>\n",
       "      <th>5Y</th>\n",
       "      <td>400633.11</td>\n",
       "      <td>69501.11</td>\n",
       "      <td>385174.88</td>\n",
       "      <td>0.10</td>\n",
       "      <td>1.58</td>\n",
       "      <td>2.26</td>\n",
       "      <td>0.11</td>\n",
       "      <td>0.35</td>\n",
       "      <td>0.16</td>\n",
       "      <td>-233035.55</td>\n",
       "      <td>-248712.31</td>\n",
       "    </tr>\n",
       "    <tr>\n",
       "      <th>7Y</th>\n",
       "      <td>717714.50</td>\n",
       "      <td>139772.74</td>\n",
       "      <td>472453.54</td>\n",
       "      <td>0.96</td>\n",
       "      <td>1.57</td>\n",
       "      <td>2.24</td>\n",
       "      <td>0.12</td>\n",
       "      <td>0.65</td>\n",
       "      <td>0.51</td>\n",
       "      <td>-35408.00</td>\n",
       "      <td>-60342.87</td>\n",
       "    </tr>\n",
       "    <tr>\n",
       "      <th>10Y</th>\n",
       "      <td>1528960.90</td>\n",
       "      <td>362620.47</td>\n",
       "      <td>0.00</td>\n",
       "      <td>1.00</td>\n",
       "      <td>1.56</td>\n",
       "      <td>2.22</td>\n",
       "      <td>1.31</td>\n",
       "      <td>1.11</td>\n",
       "      <td>0.99</td>\n",
       "      <td>387395.22</td>\n",
       "      <td>300999.82</td>\n",
       "    </tr>\n",
       "  </tbody>\n",
       "</table>\n",
       "</div>"
      ],
      "text/plain": [
       "     Expected Cap    Std Cap  Exp Cap < 500k  Prob >= 500k  \\\n",
       "5Y      400633.11   69501.11       385174.88          0.10   \n",
       "7Y      717714.50  139772.74       472453.54          0.96   \n",
       "10Y    1528960.90  362620.47            0.00          1.00   \n",
       "\n",
       "     Expected Annual_sharpe  Expected Annual_sortino  Expected MDD  ret VaR  \\\n",
       "5Y                     1.58                     2.26          0.11     0.35   \n",
       "7Y                     1.57                     2.24          0.12     0.65   \n",
       "10Y                    1.56                     2.22          1.31     1.11   \n",
       "\n",
       "     ret CVaR    cap VaR   cap CVaR  \n",
       "5Y       0.16 -233035.55 -248712.31  \n",
       "7Y       0.51  -35408.00  -60342.87  \n",
       "10Y      0.99  387395.22  300999.82  "
      ]
     },
     "execution_count": 12,
     "metadata": {},
     "output_type": "execute_result"
    }
   ],
   "source": [
    "Summary_table_lst[3].round(2)"
   ]
  },
  {
   "cell_type": "markdown",
   "metadata": {},
   "source": [
    "## Financial Diamond"
   ]
  },
  {
   "cell_type": "code",
   "execution_count": 34,
   "metadata": {},
   "outputs": [],
   "source": [
    "def get_loc(year_pts,cap_pts):\n",
    "    # points coordinates follows the order of left up right down left(the last one is left is just to connect the points to draw a full diamond)\n",
    "    x_coor = [year_pts[0],year_pts[1],year_pts[2],year_pts[1],year_pts[0]]\n",
    "    y_coor = [cap_pts[1],cap_pts[2],cap_pts[1],cap_pts[0],cap_pts[1]]\n",
    "    return x_coor, y_coor\n",
    "\n",
    "year_pts = [4,5,6] # hard-coded for now, TODO\n",
    "cap_pts_lst = [[cap_table_lst[i].iloc[3,0],cap_table_lst[i].iloc[4,0], cap_table_lst[i].iloc[5,0]] for i in range(3)] #if my interpretation of the diamond is correct"
   ]
  },
  {
   "cell_type": "code",
   "execution_count": 36,
   "metadata": {},
   "outputs": [
    {
     "data": {
      "image/png": "[encoded data removed]",
      "text/plain": [
       "<Figure size 640x480 with 1 Axes>"
      ]
     },
     "metadata": {},
     "output_type": "display_data"
    }
   ],
   "source": [
    "color = iter(cm.rainbow(np.linspace(0, 1, 6)))\n",
    "labels = ['uti','sharpe','mdd']\n",
    "fig, ax = plt.subplots()\n",
    "for i in range(len(cap_pts_lst)):\n",
    "    c = next(color)\n",
    "    x_coor, y_coor = get_loc(year_pts,cap_pts_lst[i])\n",
    "    ax.plot(x_coor, y_coor, '-o',alpha = 0.5, label=labels[i],c=c)\n",
    "    ax.plot(x_coor[1], y_coor[0], '-o',alpha = 0.5,c=c)\n",
    "    for j in range(len(x_coor)-1):\n",
    "        # TODO: the location of the annotation will need to be changed so that they don't overlap\n",
    "        ax.annotate(f'${round(y_coor[j])}', (x_coor[j]+0.1, y_coor[j]-4000*(i-1)),fontsize=7)\n",
    "    ax.annotate(f'${round(y_coor[0])}', (x_coor[1]+0.1, y_coor[0]-4000*(i-1)),fontsize=7)\n",
    "ax.legend()\n",
    "ax.set_title('Financial Diamonds for Allocation Strategies')\n",
    "ax.set_xlabel('Years')\n",
    "ax.set_ylabel('Capitals')\n",
    "ax.grid()"
   ]
  }
 ],
 "metadata": {
  "kernelspec": {
   "display_name": "base",
   "language": "python",
   "name": "python3"
  },
  "language_info": {
   "codemirror_mode": {
    "name": "ipython",
    "version": 3
   },
   "file_extension": ".py",
   "mimetype": "text/x-python",
   "name": "python",
   "nbconvert_exporter": "python",
   "pygments_lexer": "ipython3",
   "version": "3.10.0"
  }
 },
 "nbformat": 4,
 "nbformat_minor": 2
}
