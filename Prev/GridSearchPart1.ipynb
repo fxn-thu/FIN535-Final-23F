{
 "cells": [
  {
   "cell_type": "code",
   "execution_count": 1,
   "metadata": {},
   "outputs": [],
   "source": [
    "import numpy as np\n",
    "import pandas as pd\n",
    "import math\n",
    "import seaborn as sns\n",
    "from datetime import datetime\n",
    "import matplotlib.pyplot as plt\n",
    "from scipy.stats.mstats import winsorize\n",
    "import warnings\n",
    "warnings.filterwarnings(\"ignore\")"
   ]
  },
  {
   "cell_type": "code",
   "execution_count": 2,
   "metadata": {},
   "outputs": [],
   "source": [
    "from tqdm import tqdm"
   ]
  },
  {
   "cell_type": "code",
   "execution_count": 3,
   "metadata": {},
   "outputs": [],
   "source": [
    "# Read data\n",
    "data = pd.read_csv('data.csv')\n",
    "data['month'] = data['month'].apply(lambda x: datetime.strptime(x, '%Y-%m')) #assume each date per month is the last day\n",
    "data.set_index(['month'],inplace=True)\n",
    "# No missing month"
   ]
  },
  {
   "cell_type": "markdown",
   "metadata": {},
   "source": [
    "### Functions for Grid Search\n",
    "\n",
    "- For each grid, take mean over the all possible paths (119 MC)\n",
    "- Grid Search - Three dimensions (10 * 10 * 10) "
   ]
  },
  {
   "cell_type": "code",
   "execution_count": 4,
   "metadata": {},
   "outputs": [],
   "source": [
    "from PathGen import *\n",
    "\n",
    "def Experiments(MC,data,CAP,SAVE,g,ratio,years=[60,84],tax=0):\n",
    "    # MC simulation --------------------------------------------------------------------------------------------\n",
    "    # Years need to be 2 examples\n",
    "    Simu_table = pd.DataFrame(index = range(MC),\\\n",
    "    columns = ['5Y_cap','7Y_cap','5Y_sharpe','7Y_sharpe'])\n",
    "\n",
    "    for mc in range(MC):\n",
    "        temdf = MC_generate(mc,data,CAP,SAVE,g,ratio)\n",
    "        temdf.reset_index(inplace=True,drop=True)\n",
    "        # Loc out end of different years\n",
    "        rst = temdf.loc[np.r_[years[0]-1,years[1]-1],'cap_total']\n",
    "        rst2 = temdf.loc[np.r_[years[0]-1,years[1]-1],'cap_input'] \n",
    "        # Total Capital after tax for different dates\n",
    "        Simu_table.iloc[mc,:2] = rst - tax*(rst - rst2) # Tax Adjustment (only pay for capital gain)\n",
    "        Simu_table.iloc[mc,2] = ret_annual_sharpe(temdf.iloc[:years[0],1])\n",
    "        Simu_table.iloc[mc,3] = ret_annual_sharpe(temdf.iloc[:years[1],1])\n",
    "        \n",
    "    return Simu_table"
   ]
  },
  {
   "cell_type": "code",
   "execution_count": 13,
   "metadata": {},
   "outputs": [
    {
     "name": "stdout",
     "output_type": "stream",
     "text": [
      "           x1        x2        x3        x4\n",
      "0    0.252218  0.389102  0.879787  0.358679\n",
      "1    0.502337  0.319383  0.845133  0.178280\n",
      "2    0.202873  0.378159  0.650015  0.418968\n",
      "3    0.325748  0.632399  1.387910  0.041853\n",
      "4    0.111440  0.710112  1.133961  0.178449\n",
      "..        ...       ...       ...       ...\n",
      "495  0.111281  0.331458  0.091367  0.557261\n",
      "496  0.477581  0.387882  0.342385  0.134537\n",
      "497  0.818098  0.125310  0.095685  0.056592\n",
      "498  0.297952  0.162477  1.990411  0.539571\n",
      "499  0.418443  0.154279  0.905400  0.427278\n",
      "\n",
      "[500 rows x 4 columns]\n"
     ]
    }
   ],
   "source": [
    "# Does not allow shorting\n",
    "# Generate a DataFrame with 1000 rows and 4 columns\n",
    "np.random.seed(535)\n",
    "\n",
    "rand_data = np.random.uniform(0, 2, size=(9000, 3))\n",
    "df_grid2 = pd.DataFrame(rand_data, columns=['x1', 'x2', 'x3'])\n",
    "\n",
    "# Calculate x4 as 1 minus the sum of x1 and x2\n",
    "df_grid2['x4'] = 1 - df_grid2['x1'] - df_grid2['x2']\n",
    "\n",
    "# Drop rows based on the condition\n",
    "condition = (df_grid2['x4'] >= 0) & (df_grid2['x4'] <= 2)\n",
    "df_grid2 = df_grid2[condition]\n",
    "\n",
    "df_grid2.reset_index(drop=True,inplace=True)\n",
    "df_grid2 = df_grid2.iloc[:500,:]\n",
    "\n",
    "# Display the sorted DataFrame\n",
    "print(df_grid2)"
   ]
  },
  {
   "cell_type": "code",
   "execution_count": 14,
   "metadata": {},
   "outputs": [
    {
     "name": "stderr",
     "output_type": "stream",
     "text": [
      "100%|██████████| 500/500 [11:05<00:00,  1.33s/it]\n"
     ]
    }
   ],
   "source": [
    "# search here --- Original Dataset\n",
    "# Q1: Not allow shorting\n",
    "\n",
    "SAVE = 40000\n",
    "CAP = 50000\n",
    "g = 0.05\n",
    "\n",
    "MC = 119\n",
    "\n",
    "df_compare_5Y_NS = pd.DataFrame(index=range(500),columns = ['Sharpe','Utility','Prob'])\n",
    "df_compare_7Y_NS = pd.DataFrame(index=range(500),columns = ['Sharpe','Utility','Prob'])\n",
    "\n",
    "for idx in tqdm(range(500)):\n",
    "    ratio = (df_grid2.iloc[idx,:]).to_list()\n",
    "    temp_df = Experiments(MC,data,CAP,SAVE,g,ratio,years=[60,84],tax=0)\n",
    "    uiti_5Y = temp_df['5Y_cap'].apply(lambda x: np.log(x))\n",
    "    uiti_7Y = temp_df['7Y_cap'].apply(lambda x: np.log(x))\n",
    "    df_compare_5Y_NS.iloc[idx,0] = np.nanmean(temp_df['5Y_sharpe'])\n",
    "    df_compare_7Y_NS.iloc[idx,0] = np.nanmean(temp_df['7Y_sharpe'])\n",
    "    df_compare_5Y_NS.iloc[idx,1] = np.nanmean(uiti_5Y)\n",
    "    df_compare_7Y_NS.iloc[idx,1] = np.nanmean(uiti_7Y)\n",
    "    df_compare_5Y_NS.iloc[idx,2] = (temp_df['5Y_cap'] >= 500000).mean()\n",
    "    df_compare_7Y_NS.iloc[idx,2] = (temp_df['7Y_cap'] >= 500000).mean()"
   ]
  },
  {
   "cell_type": "code",
   "execution_count": 15,
   "metadata": {},
   "outputs": [],
   "source": [
    "df_compare_5Y_NS['Sharpe'] = pd.to_numeric(df_compare_5Y_NS['Sharpe'])\n",
    "df_compare_5Y_NS['Utility'] = pd.to_numeric(df_compare_5Y_NS['Utility'])\n",
    "df_compare_5Y_NS['Prob'] = pd.to_numeric(df_compare_5Y_NS['Prob'])\n",
    "df_compare_7Y_NS['Sharpe'] = pd.to_numeric(df_compare_7Y_NS['Sharpe'])\n",
    "df_compare_7Y_NS['Utility'] = pd.to_numeric(df_compare_7Y_NS['Utility'])\n",
    "df_compare_7Y_NS['Prob'] = pd.to_numeric(df_compare_7Y_NS['Prob'])"
   ]
  },
  {
   "cell_type": "code",
   "execution_count": 16,
   "metadata": {},
   "outputs": [],
   "source": [
    "import pickle\n",
    "# Store data (serialize)\n",
    "with open('df_compare_5Y_Q1.pickle', 'wb') as handle:\n",
    "    pickle.dump(df_compare_5Y_NS, handle, protocol=pickle.HIGHEST_PROTOCOL)\n",
    "    \n",
    "with open('df_compare_7Y_Q1.pickle', 'wb') as handle:\n",
    "    pickle.dump(df_compare_7Y_NS, handle, protocol=pickle.HIGHEST_PROTOCOL) \n",
    " "
   ]
  },
  {
   "cell_type": "code",
   "execution_count": null,
   "metadata": {},
   "outputs": [],
   "source": []
  },
  {
   "cell_type": "code",
   "execution_count": 20,
   "metadata": {},
   "outputs": [],
   "source": [
    "df_results = pd.DataFrame(index=['5Y_sharpe','5Y_uti','5Y_prob',\\\n",
    "    '7Y_sharpe','7Y_uti','7Y_prob'],columns=['x1','x2','x3','x4'])\n",
    "\n",
    "df_results.iloc[0,:] = df_grid2.iloc[df_compare_5Y_NS[['Sharpe']].idxmax(),:]\n",
    "df_results.iloc[1,:] = df_grid2.iloc[df_compare_5Y_NS[['Utility']].idxmax(),:]\n",
    "df_results.iloc[2,:] = df_grid2.iloc[df_compare_5Y_NS[['Prob']].idxmax(),:]\n",
    "df_results.iloc[3,:] = df_grid2.iloc[df_compare_7Y_NS[['Sharpe']].idxmax(),:]\n",
    "df_results.iloc[4,:] = df_grid2.iloc[df_compare_7Y_NS[['Utility']].idxmax(),:]\n",
    "df_results.iloc[5,:] = df_grid2.iloc[df_compare_7Y_NS[['Prob']].idxmax(),:]"
   ]
  },
  {
   "cell_type": "code",
   "execution_count": 21,
   "metadata": {},
   "outputs": [],
   "source": [
    "with open('ratios_opt_Q1.pickle', 'wb') as handle:\n",
    "    pickle.dump(df_results, handle, protocol=pickle.HIGHEST_PROTOCOL)"
   ]
  },
  {
   "cell_type": "code",
   "execution_count": 22,
   "metadata": {},
   "outputs": [
    {
     "data": {
      "text/html": [
       "<div>\n",
       "<style scoped>\n",
       "    .dataframe tbody tr th:only-of-type {\n",
       "        vertical-align: middle;\n",
       "    }\n",
       "\n",
       "    .dataframe tbody tr th {\n",
       "        vertical-align: top;\n",
       "    }\n",
       "\n",
       "    .dataframe thead th {\n",
       "        text-align: right;\n",
       "    }\n",
       "</style>\n",
       "<table border=\"1\" class=\"dataframe\">\n",
       "  <thead>\n",
       "    <tr style=\"text-align: right;\">\n",
       "      <th></th>\n",
       "      <th>x1</th>\n",
       "      <th>x2</th>\n",
       "      <th>x3</th>\n",
       "      <th>x4</th>\n",
       "    </tr>\n",
       "  </thead>\n",
       "  <tbody>\n",
       "    <tr>\n",
       "      <th>5Y_sharpe</th>\n",
       "      <td>0.19412821283008763</td>\n",
       "      <td>0.130897679253146</td>\n",
       "      <td>0.17178930119158897</td>\n",
       "      <td>0.6749741079167664</td>\n",
       "    </tr>\n",
       "    <tr>\n",
       "      <th>5Y_uti</th>\n",
       "      <td>0.7132951792394133</td>\n",
       "      <td>0.2484572146718702</td>\n",
       "      <td>1.8985635467053574</td>\n",
       "      <td>0.03824760608871647</td>\n",
       "    </tr>\n",
       "    <tr>\n",
       "      <th>5Y_prob</th>\n",
       "      <td>0.7132951792394133</td>\n",
       "      <td>0.2484572146718702</td>\n",
       "      <td>1.8985635467053574</td>\n",
       "      <td>0.03824760608871647</td>\n",
       "    </tr>\n",
       "    <tr>\n",
       "      <th>7Y_sharpe</th>\n",
       "      <td>0.19412821283008763</td>\n",
       "      <td>0.130897679253146</td>\n",
       "      <td>0.17178930119158897</td>\n",
       "      <td>0.6749741079167664</td>\n",
       "    </tr>\n",
       "    <tr>\n",
       "      <th>7Y_uti</th>\n",
       "      <td>0.7132951792394133</td>\n",
       "      <td>0.2484572146718702</td>\n",
       "      <td>1.8985635467053574</td>\n",
       "      <td>0.03824760608871647</td>\n",
       "    </tr>\n",
       "    <tr>\n",
       "      <th>7Y_prob</th>\n",
       "      <td>0.1534992420660981</td>\n",
       "      <td>0.8396523702258318</td>\n",
       "      <td>1.8978927120325957</td>\n",
       "      <td>0.006848387708070058</td>\n",
       "    </tr>\n",
       "  </tbody>\n",
       "</table>\n",
       "</div>"
      ],
      "text/plain": [
       "                            x1                  x2                   x3  \\\n",
       "5Y_sharpe  0.19412821283008763   0.130897679253146  0.17178930119158897   \n",
       "5Y_uti      0.7132951792394133  0.2484572146718702   1.8985635467053574   \n",
       "5Y_prob     0.7132951792394133  0.2484572146718702   1.8985635467053574   \n",
       "7Y_sharpe  0.19412821283008763   0.130897679253146  0.17178930119158897   \n",
       "7Y_uti      0.7132951792394133  0.2484572146718702   1.8985635467053574   \n",
       "7Y_prob     0.1534992420660981  0.8396523702258318   1.8978927120325957   \n",
       "\n",
       "                             x4  \n",
       "5Y_sharpe    0.6749741079167664  \n",
       "5Y_uti      0.03824760608871647  \n",
       "5Y_prob     0.03824760608871647  \n",
       "7Y_sharpe    0.6749741079167664  \n",
       "7Y_uti      0.03824760608871647  \n",
       "7Y_prob    0.006848387708070058  "
      ]
     },
     "execution_count": 22,
     "metadata": {},
     "output_type": "execute_result"
    }
   ],
   "source": [
    "df_results"
   ]
  },
  {
   "cell_type": "code",
   "execution_count": null,
   "metadata": {},
   "outputs": [],
   "source": []
  }
 ],
 "metadata": {
  "kernelspec": {
   "display_name": "apc524",
   "language": "python",
   "name": "python3"
  },
  "language_info": {
   "codemirror_mode": {
    "name": "ipython",
    "version": 3
   },
   "file_extension": ".py",
   "mimetype": "text/x-python",
   "name": "python",
   "nbconvert_exporter": "python",
   "pygments_lexer": "ipython3",
   "version": "3.10.0"
  }
 },
 "nbformat": 4,
 "nbformat_minor": 2
}
