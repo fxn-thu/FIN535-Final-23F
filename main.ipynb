{
 "cells": [
  {
   "cell_type": "code",
   "execution_count": 1,
   "metadata": {},
   "outputs": [],
   "source": [
    "import numpy as np\n",
    "import pandas as pd\n",
    "import math\n",
    "import seaborn as sns\n",
    "from datetime import datetime\n",
    "import matplotlib.pyplot as plt\n",
    "# import cvxpy as cp\n",
    "import warnings\n",
    "warnings.filterwarnings(\"ignore\")"
   ]
  },
  {
   "cell_type": "code",
   "execution_count": 2,
   "metadata": {},
   "outputs": [
    {
     "data": {
      "text/plain": [
       "<module 'McExperiment' from '/Users/silsilviaaa/Desktop/FIN535/final/FIN535-Final-23F/McExperiment.py'>"
      ]
     },
     "execution_count": 2,
     "metadata": {},
     "output_type": "execute_result"
    }
   ],
   "source": [
    "import McExperiment\n",
    "from McExperiment import *\n",
    "import importlib\n",
    "importlib.reload(McExperiment)"
   ]
  },
  {
   "cell_type": "code",
   "execution_count": 3,
   "metadata": {},
   "outputs": [],
   "source": [
    "data = pd.read_csv('data.csv')\n",
    "data['month'] = data['month'].apply(lambda x: datetime.strptime(x, '%Y-%m')) #assume each date per month is the last day\n",
    "data.set_index(['month'],inplace=True)"
   ]
  },
  {
   "cell_type": "code",
   "execution_count": 23,
   "metadata": {},
   "outputs": [
    {
     "data": {
      "text/html": [
       "<div>\n",
       "<style scoped>\n",
       "    .dataframe tbody tr th:only-of-type {\n",
       "        vertical-align: middle;\n",
       "    }\n",
       "\n",
       "    .dataframe tbody tr th {\n",
       "        vertical-align: top;\n",
       "    }\n",
       "\n",
       "    .dataframe thead th {\n",
       "        text-align: right;\n",
       "    }\n",
       "</style>\n",
       "<table border=\"1\" class=\"dataframe\">\n",
       "  <thead>\n",
       "    <tr style=\"text-align: right;\">\n",
       "      <th></th>\n",
       "      <th>x1</th>\n",
       "      <th>x2</th>\n",
       "      <th>x3</th>\n",
       "      <th>x4</th>\n",
       "      <th>x5</th>\n",
       "    </tr>\n",
       "  </thead>\n",
       "  <tbody>\n",
       "    <tr>\n",
       "      <th>uti</th>\n",
       "      <td>0.368997</td>\n",
       "      <td>0.827529</td>\n",
       "      <td>0.524824</td>\n",
       "      <td>0.75</td>\n",
       "      <td>-0.196526</td>\n",
       "    </tr>\n",
       "    <tr>\n",
       "      <th>sharpe</th>\n",
       "      <td>0.490185</td>\n",
       "      <td>0.509815</td>\n",
       "      <td>0.342315</td>\n",
       "      <td>0.75</td>\n",
       "      <td>0.000000</td>\n",
       "    </tr>\n",
       "    <tr>\n",
       "      <th>mdd</th>\n",
       "      <td>0.176134</td>\n",
       "      <td>0.823866</td>\n",
       "      <td>0.618647</td>\n",
       "      <td>0.75</td>\n",
       "      <td>0.000000</td>\n",
       "    </tr>\n",
       "  </tbody>\n",
       "</table>\n",
       "</div>"
      ],
      "text/plain": [
       "              x1        x2        x3    x4        x5\n",
       "uti     0.368997  0.827529  0.524824  0.75 -0.196526\n",
       "sharpe  0.490185  0.509815  0.342315  0.75  0.000000\n",
       "mdd     0.176134  0.823866  0.618647  0.75  0.000000"
      ]
     },
     "execution_count": 23,
     "metadata": {},
     "output_type": "execute_result"
    }
   ],
   "source": [
    "arr = [[0.3689973,0.827529082,0.524823816,0.75,-0.196526382],\n",
    "       [0.49018506,0.50981494,0.342315271,0.75,0],\n",
    "       [0.176134292,0.823865714,0.618647147,0.75,0]]\n",
    "opt_ratios = pd.DataFrame(arr, index = ['uti','sharpe','mdd'], \n",
    "                  columns=['x1','x2','x3','x4','x5'])\n",
    "opt_ratios"
   ]
  },
  {
   "cell_type": "markdown",
   "metadata": {},
   "source": [
    "### Max log v-utility"
   ]
  },
  {
   "cell_type": "code",
   "execution_count": 5,
   "metadata": {},
   "outputs": [],
   "source": [
    "SAVE = 40000\n",
    "CAP = 50000\n",
    "g = 0.11\n",
    "MC = 500\n",
    "path_length = 120\n",
    "train_df = pd.read_csv('train.csv')"
   ]
  },
  {
   "cell_type": "code",
   "execution_count": 6,
   "metadata": {},
   "outputs": [
    {
     "data": {
      "text/html": [
       "<div>\n",
       "<style scoped>\n",
       "    .dataframe tbody tr th:only-of-type {\n",
       "        vertical-align: middle;\n",
       "    }\n",
       "\n",
       "    .dataframe tbody tr th {\n",
       "        vertical-align: top;\n",
       "    }\n",
       "\n",
       "    .dataframe thead th {\n",
       "        text-align: right;\n",
       "    }\n",
       "</style>\n",
       "<table border=\"1\" class=\"dataframe\">\n",
       "  <thead>\n",
       "    <tr style=\"text-align: right;\">\n",
       "      <th></th>\n",
       "      <th>Expected Cap</th>\n",
       "      <th>Std Cap</th>\n",
       "      <th>Exp Cap &lt; 500k</th>\n",
       "      <th>Prob &gt;= 500k</th>\n",
       "      <th>Expected Annual_sharpe</th>\n",
       "      <th>Expected Annual_sortino</th>\n",
       "      <th>Expected MDD</th>\n",
       "      <th>ret VaR</th>\n",
       "      <th>ret CVaR</th>\n",
       "      <th>GaR</th>\n",
       "      <th>CGaR</th>\n",
       "    </tr>\n",
       "  </thead>\n",
       "  <tbody>\n",
       "    <tr>\n",
       "      <th>5Y</th>\n",
       "      <td>347936.85</td>\n",
       "      <td>105468.83</td>\n",
       "      <td>330368.17</td>\n",
       "      <td>0.07</td>\n",
       "      <td>1.45</td>\n",
       "      <td>2.88</td>\n",
       "      <td>0.13</td>\n",
       "      <td>0.29</td>\n",
       "      <td>0.23</td>\n",
       "      <td>-365513.32</td>\n",
       "      <td>-378638.84</td>\n",
       "    </tr>\n",
       "    <tr>\n",
       "      <th>7Y</th>\n",
       "      <td>640200.76</td>\n",
       "      <td>203605.16</td>\n",
       "      <td>407500.29</td>\n",
       "      <td>0.74</td>\n",
       "      <td>1.47</td>\n",
       "      <td>2.82</td>\n",
       "      <td>0.14</td>\n",
       "      <td>0.64</td>\n",
       "      <td>0.55</td>\n",
       "      <td>-231829.51</td>\n",
       "      <td>-246966.95</td>\n",
       "    </tr>\n",
       "    <tr>\n",
       "      <th>10Y</th>\n",
       "      <td>1403136.66</td>\n",
       "      <td>494344.79</td>\n",
       "      <td>441353.14</td>\n",
       "      <td>1.00</td>\n",
       "      <td>1.46</td>\n",
       "      <td>2.75</td>\n",
       "      <td>1.61</td>\n",
       "      <td>1.50</td>\n",
       "      <td>1.21</td>\n",
       "      <td>95343.70</td>\n",
       "      <td>4242.59</td>\n",
       "    </tr>\n",
       "  </tbody>\n",
       "</table>\n",
       "</div>"
      ],
      "text/plain": [
       "     Expected Cap    Std Cap  Exp Cap < 500k  Prob >= 500k  \\\n",
       "5Y      347936.85  105468.83       330368.17          0.07   \n",
       "7Y      640200.76  203605.16       407500.29          0.74   \n",
       "10Y    1403136.66  494344.79       441353.14          1.00   \n",
       "\n",
       "     Expected Annual_sharpe  Expected Annual_sortino  Expected MDD  ret VaR  \\\n",
       "5Y                     1.45                     2.88          0.13     0.29   \n",
       "7Y                     1.47                     2.82          0.14     0.64   \n",
       "10Y                    1.46                     2.75          1.61     1.50   \n",
       "\n",
       "     ret CVaR        GaR       CGaR  \n",
       "5Y       0.23 -365513.32 -378638.84  \n",
       "7Y       0.55 -231829.51 -246966.95  \n",
       "10Y      1.21   95343.70    4242.59  "
      ]
     },
     "execution_count": 6,
     "metadata": {},
     "output_type": "execute_result"
    }
   ],
   "source": [
    "ratio = (opt_ratios.iloc[0,:]).to_list()\n",
    "\n",
    "# Get the analysis for end of 5Y/7Y/10Y \n",
    "Simu_table, Simu_cap_table = Experiments(MC,path_length,train_df,CAP,SAVE,g,ratio,years=[60,84,120],tax=0)\n",
    "Summary_table1, cap_table1 = GetSummary(Simu_table, Simu_cap_table, path_length)\n",
    "Summary_table1 = Summary_table1.fillna(0)\n",
    "Summary_table1.round(2)"
   ]
  },
  {
   "cell_type": "markdown",
   "metadata": {},
   "source": [
    "### Max Sharpe ratio"
   ]
  },
  {
   "cell_type": "code",
   "execution_count": 8,
   "metadata": {},
   "outputs": [
    {
     "data": {
      "text/html": [
       "<div>\n",
       "<style scoped>\n",
       "    .dataframe tbody tr th:only-of-type {\n",
       "        vertical-align: middle;\n",
       "    }\n",
       "\n",
       "    .dataframe tbody tr th {\n",
       "        vertical-align: top;\n",
       "    }\n",
       "\n",
       "    .dataframe thead th {\n",
       "        text-align: right;\n",
       "    }\n",
       "</style>\n",
       "<table border=\"1\" class=\"dataframe\">\n",
       "  <thead>\n",
       "    <tr style=\"text-align: right;\">\n",
       "      <th></th>\n",
       "      <th>Expected Cap</th>\n",
       "      <th>Std Cap</th>\n",
       "      <th>Exp Cap &lt; 500k</th>\n",
       "      <th>Prob &gt;= 500k</th>\n",
       "      <th>Expected Annual_sharpe</th>\n",
       "      <th>Expected Annual_sortino</th>\n",
       "      <th>Expected MDD</th>\n",
       "      <th>ret VaR</th>\n",
       "      <th>ret CVaR</th>\n",
       "      <th>GaR</th>\n",
       "      <th>CGaR</th>\n",
       "    </tr>\n",
       "  </thead>\n",
       "  <tbody>\n",
       "    <tr>\n",
       "      <th>5Y</th>\n",
       "      <td>314531.63</td>\n",
       "      <td>80648.01</td>\n",
       "      <td>311360.46</td>\n",
       "      <td>0.01</td>\n",
       "      <td>1.74</td>\n",
       "      <td>3.26</td>\n",
       "      <td>0.10</td>\n",
       "      <td>0.34</td>\n",
       "      <td>0.31</td>\n",
       "      <td>-356355.88</td>\n",
       "      <td>-370493.74</td>\n",
       "    </tr>\n",
       "    <tr>\n",
       "      <th>7Y</th>\n",
       "      <td>549857.46</td>\n",
       "      <td>146477.06</td>\n",
       "      <td>409752.62</td>\n",
       "      <td>0.61</td>\n",
       "      <td>1.71</td>\n",
       "      <td>3.06</td>\n",
       "      <td>0.11</td>\n",
       "      <td>0.79</td>\n",
       "      <td>0.69</td>\n",
       "      <td>-223835.81</td>\n",
       "      <td>-264535.17</td>\n",
       "    </tr>\n",
       "    <tr>\n",
       "      <th>10Y</th>\n",
       "      <td>1165449.51</td>\n",
       "      <td>332460.31</td>\n",
       "      <td>489960.66</td>\n",
       "      <td>1.00</td>\n",
       "      <td>1.70</td>\n",
       "      <td>2.92</td>\n",
       "      <td>1.35</td>\n",
       "      <td>1.52</td>\n",
       "      <td>1.35</td>\n",
       "      <td>50013.53</td>\n",
       "      <td>17420.18</td>\n",
       "    </tr>\n",
       "  </tbody>\n",
       "</table>\n",
       "</div>"
      ],
      "text/plain": [
       "     Expected Cap    Std Cap  Exp Cap < 500k  Prob >= 500k  \\\n",
       "5Y      314531.63   80648.01       311360.46          0.01   \n",
       "7Y      549857.46  146477.06       409752.62          0.61   \n",
       "10Y    1165449.51  332460.31       489960.66          1.00   \n",
       "\n",
       "     Expected Annual_sharpe  Expected Annual_sortino  Expected MDD  ret VaR  \\\n",
       "5Y                     1.74                     3.26          0.10     0.34   \n",
       "7Y                     1.71                     3.06          0.11     0.79   \n",
       "10Y                    1.70                     2.92          1.35     1.52   \n",
       "\n",
       "     ret CVaR        GaR       CGaR  \n",
       "5Y       0.31 -356355.88 -370493.74  \n",
       "7Y       0.69 -223835.81 -264535.17  \n",
       "10Y      1.35   50013.53   17420.18  "
      ]
     },
     "execution_count": 8,
     "metadata": {},
     "output_type": "execute_result"
    }
   ],
   "source": [
    "ratio = (opt_ratios.iloc[1,:]).to_list()\n",
    "\n",
    "# Get the analysis for end of 5Y/7Y/10Y \n",
    "Simu_table, Simu_cap_table = Experiments(MC,path_length,train_df,CAP,SAVE,g,ratio,years=[60,84,120],tax=0)\n",
    "Summary_table2, cap_table2 = GetSummary(Simu_table, Simu_cap_table, path_length)\n",
    "Summary_table2 = Summary_table2.fillna(0)\n",
    "Summary_table2.round(2)"
   ]
  },
  {
   "cell_type": "markdown",
   "metadata": {},
   "source": [
    "### Min max drawdown"
   ]
  },
  {
   "cell_type": "code",
   "execution_count": 9,
   "metadata": {},
   "outputs": [
    {
     "data": {
      "text/html": [
       "<div>\n",
       "<style scoped>\n",
       "    .dataframe tbody tr th:only-of-type {\n",
       "        vertical-align: middle;\n",
       "    }\n",
       "\n",
       "    .dataframe tbody tr th {\n",
       "        vertical-align: top;\n",
       "    }\n",
       "\n",
       "    .dataframe thead th {\n",
       "        text-align: right;\n",
       "    }\n",
       "</style>\n",
       "<table border=\"1\" class=\"dataframe\">\n",
       "  <thead>\n",
       "    <tr style=\"text-align: right;\">\n",
       "      <th></th>\n",
       "      <th>Expected Cap</th>\n",
       "      <th>Std Cap</th>\n",
       "      <th>Exp Cap &lt; 500k</th>\n",
       "      <th>Prob &gt;= 500k</th>\n",
       "      <th>Expected Annual_sharpe</th>\n",
       "      <th>Expected Annual_sortino</th>\n",
       "      <th>Expected MDD</th>\n",
       "      <th>ret VaR</th>\n",
       "      <th>ret CVaR</th>\n",
       "      <th>GaR</th>\n",
       "      <th>CGaR</th>\n",
       "    </tr>\n",
       "  </thead>\n",
       "  <tbody>\n",
       "    <tr>\n",
       "      <th>5Y</th>\n",
       "      <td>329649.78</td>\n",
       "      <td>107822.24</td>\n",
       "      <td>312435.68</td>\n",
       "      <td>0.07</td>\n",
       "      <td>1.32</td>\n",
       "      <td>2.68</td>\n",
       "      <td>0.13</td>\n",
       "      <td>0.19</td>\n",
       "      <td>0.08</td>\n",
       "      <td>-380542.10</td>\n",
       "      <td>-387134.11</td>\n",
       "    </tr>\n",
       "    <tr>\n",
       "      <th>7Y</th>\n",
       "      <td>586003.86</td>\n",
       "      <td>199939.11</td>\n",
       "      <td>395999.40</td>\n",
       "      <td>0.62</td>\n",
       "      <td>1.31</td>\n",
       "      <td>2.62</td>\n",
       "      <td>0.15</td>\n",
       "      <td>0.36</td>\n",
       "      <td>0.22</td>\n",
       "      <td>-256215.55</td>\n",
       "      <td>-312185.95</td>\n",
       "    </tr>\n",
       "    <tr>\n",
       "      <th>10Y</th>\n",
       "      <td>1243938.55</td>\n",
       "      <td>444662.08</td>\n",
       "      <td>431558.13</td>\n",
       "      <td>0.99</td>\n",
       "      <td>1.31</td>\n",
       "      <td>2.57</td>\n",
       "      <td>1.44</td>\n",
       "      <td>1.02</td>\n",
       "      <td>0.79</td>\n",
       "      <td>-31433.84</td>\n",
       "      <td>-84580.99</td>\n",
       "    </tr>\n",
       "  </tbody>\n",
       "</table>\n",
       "</div>"
      ],
      "text/plain": [
       "     Expected Cap    Std Cap  Exp Cap < 500k  Prob >= 500k  \\\n",
       "5Y      329649.78  107822.24       312435.68          0.07   \n",
       "7Y      586003.86  199939.11       395999.40          0.62   \n",
       "10Y    1243938.55  444662.08       431558.13          0.99   \n",
       "\n",
       "     Expected Annual_sharpe  Expected Annual_sortino  Expected MDD  ret VaR  \\\n",
       "5Y                     1.32                     2.68          0.13     0.19   \n",
       "7Y                     1.31                     2.62          0.15     0.36   \n",
       "10Y                    1.31                     2.57          1.44     1.02   \n",
       "\n",
       "     ret CVaR        GaR       CGaR  \n",
       "5Y       0.08 -380542.10 -387134.11  \n",
       "7Y       0.22 -256215.55 -312185.95  \n",
       "10Y      0.79  -31433.84  -84580.99  "
      ]
     },
     "execution_count": 9,
     "metadata": {},
     "output_type": "execute_result"
    }
   ],
   "source": [
    "ratio = (opt_ratios.iloc[2,:]).to_list()\n",
    "\n",
    "# Get the analysis for end of 5Y/7Y/10Y \n",
    "Simu_table, Simu_cap_table = Experiments(MC,path_length,train_df,CAP,SAVE,g,ratio,years=[60,84,120],tax=0)\n",
    "Summary_table3, cap_table3 = GetSummary(Simu_table, Simu_cap_table, path_length)\n",
    "Summary_table3 = Summary_table3.fillna(0)\n",
    "Summary_table3.round(2)"
   ]
  },
  {
   "cell_type": "markdown",
   "metadata": {},
   "source": [
    "## Financial Diamond"
   ]
  },
  {
   "cell_type": "code",
   "execution_count": 37,
   "metadata": {},
   "outputs": [],
   "source": [
    "def get_loc(year_pts,cap_pts):\n",
    "    x_coor = [year_pts[0],year_pts[2],year_pts[1],year_pts[1]]\n",
    "    y_coor = [cap_pts[1],cap_pts[1],cap_pts[2],cap_pts[0]]\n",
    "    return x_coor, y_coor\n",
    "\n",
    "year_pts = [4,5,6]\n",
    "cap_pts1 = [cap_table1.iloc[3,0],cap_table1.iloc[4,0], cap_table1.iloc[5,0]]\n",
    "cap_pts2 = [cap_table2.iloc[3,0],cap_table1.iloc[4,0], cap_table2.iloc[5,0]]\n",
    "cap_pts3 = [cap_table3.iloc[3,0],cap_table1.iloc[4,0], cap_table3.iloc[5,0]]\n",
    "cap_pts_lst = [cap_pts1,cap_pts2,cap_pts3]"
   ]
  },
  {
   "cell_type": "code",
   "execution_count": 42,
   "metadata": {},
   "outputs": [
    {
     "data": {
      "image/png": "[encoded data removed]",
      "text/plain": [
       "<Figure size 640x480 with 1 Axes>"
      ]
     },
     "metadata": {},
     "output_type": "display_data"
    }
   ],
   "source": [
    "for i in range(len(cap_pts_lst)):\n",
    "    x_coor, y_coor = get_loc(year_pts,cap_pts_lst[i])\n",
    "    plt.plot(x_coor, y_coor, '-o',alpha = 0.5)"
   ]
  },
  {
   "cell_type": "code",
   "execution_count": null,
   "metadata": {},
   "outputs": [],
   "source": []
  },
  {
   "cell_type": "code",
   "execution_count": null,
   "metadata": {},
   "outputs": [],
   "source": []
  }
 ],
 "metadata": {
  "kernelspec": {
   "display_name": "base",
   "language": "python",
   "name": "python3"
  },
  "language_info": {
   "codemirror_mode": {
    "name": "ipython",
    "version": 3
   },
   "file_extension": ".py",
   "mimetype": "text/x-python",
   "name": "python",
   "nbconvert_exporter": "python",
   "pygments_lexer": "ipython3",
   "version": "3.10.9"
  }
 },
 "nbformat": 4,
 "nbformat_minor": 2
}
