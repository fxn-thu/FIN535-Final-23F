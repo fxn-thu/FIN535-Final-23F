{
 "cells": [
  {
   "cell_type": "code",
   "execution_count": 1,
   "metadata": {},
   "outputs": [],
   "source": [
    "import numpy as np\n",
    "import pandas as pd\n",
    "import math\n",
    "import seaborn as sns\n",
    "from datetime import datetime\n",
    "import matplotlib.pyplot as plt\n",
    "from scipy.stats.mstats import winsorize\n",
    "import warnings\n",
    "from tqdm import tqdm\n",
    "warnings.filterwarnings(\"ignore\")"
   ]
  },
  {
   "cell_type": "code",
   "execution_count": 3,
   "metadata": {},
   "outputs": [],
   "source": [
    "train_df = pd.read_csv('train.csv')"
   ]
  },
  {
   "cell_type": "code",
   "execution_count": 11,
   "metadata": {},
   "outputs": [
    {
     "name": "stdout",
     "output_type": "stream",
     "text": [
      "           x1        x2        x3        x4        x5\n",
      "0    0.086479  1.240959  0.193399 -0.289057 -0.327439\n",
      "1   -0.509618  1.007246  0.000601  0.088736  0.502372\n",
      "2    1.002345  0.317541 -0.300727 -0.985647 -0.319887\n",
      "3    0.028712  0.443163  0.459251  0.585433  0.528125\n",
      "4    0.659452 -0.474361  0.406316  0.719263  0.814909\n",
      "..        ...       ...       ...       ...       ...\n",
      "995  0.516797 -0.753181 -0.095590 -0.570499  1.236384\n",
      "996 -0.563399 -0.285216 -0.257118 -0.335824  1.848615\n",
      "997 -0.993534  1.168260 -0.143694  0.261402  0.825273\n",
      "998  1.113387  0.311050  0.342542  0.380435 -0.424438\n",
      "999  0.965484  0.825643 -0.913156  0.267354 -0.791127\n",
      "\n",
      "[1000 rows x 5 columns]\n"
     ]
    }
   ],
   "source": [
    "# Grid Generation here --------------------------------------------------------------------\n",
    "\n",
    "# Allow shorting\n",
    "# Generate a DataFrame with 1000 rows and 4 columns\n",
    "# Set a random seed for reproducibility\n",
    "np.random.seed(535)\n",
    "\n",
    "n_grids = 1000\n",
    "\n",
    "# Generate a DataFrame with 1000 rows and 4 columns\n",
    "rand_data1 = np.random.uniform(-1, 2, size=(1400, 2))\n",
    "rand_data2 = np.random.uniform(-1, 0.75, size=(1400, 2))\n",
    "df_grid = pd.DataFrame(np.concatenate((rand_data1, rand_data2), axis=1), columns=['x1', 'x2', 'x3','x4'])\n",
    "\n",
    "# Calculate x4 as 1 minus the sum of x1 and x2\n",
    "df_grid['x5'] = 1 - df_grid['x1'] - df_grid['x2']\n",
    "\n",
    "# Drop rows based on the condition\n",
    "condition = (df_grid['x5'] >= -1) & (df_grid['x5'] <= 2)\n",
    "df_grid = df_grid[condition]\n",
    "\n",
    "df_grid.reset_index(drop=True,inplace=True)\n",
    "df_grid = df_grid.iloc[:n_grids,:]\n",
    "\n",
    "# Display the sorted DataFrame\n",
    "print(df_grid)"
   ]
  },
  {
   "cell_type": "code",
   "execution_count": 12,
   "metadata": {},
   "outputs": [],
   "source": [
    "from PathGen import *\n",
    "\n",
    "def Experiments(MC,path_length,data,CAP,SAVE,g,ratio,year=60,tax=0):\n",
    "    # MC simulation --------------------------------------------------------------------------------------------\n",
    "    Simu_table = pd.DataFrame(index = range(MC),\\\n",
    "    columns = ['5Y_cap','5Y_sharpe','5Y_sortino','5Y_mdd'])\n",
    "\n",
    "    for mc in range(MC):\n",
    "        mcdf = Path_Generator(path_length, data)\n",
    "        temdf = MC_generate(mcdf,CAP,SAVE,g,ratio)\n",
    "        temdf.reset_index(inplace=True,drop=True)\n",
    "        # Loc out end of different years\n",
    "        rst = temdf.loc[year,'cap_total']\n",
    "        rst2 = temdf.loc[year,'cap_input'] \n",
    "        # Total Capital after tax for different dates\n",
    "        Simu_table.iloc[mc,0] = rst - tax*(rst - rst2) # Tax Adjustment (only pay for capital gain)\n",
    "        Simu_table.iloc[mc,1] = ret_annual_sharpe(temdf.iloc[:year,1])\n",
    "        Simu_table.iloc[mc,2] = ret_annual_sortino(temdf.iloc[:year,1])\n",
    "        Simu_table.iloc[mc,3] = max_drawdown(temdf.iloc[:year,2])\n",
    "        \n",
    "    return Simu_table"
   ]
  },
  {
   "cell_type": "code",
   "execution_count": 13,
   "metadata": {},
   "outputs": [
    {
     "name": "stderr",
     "output_type": "stream",
     "text": [
      " 26%|██▌       | 260/1000 [01:49<05:59,  2.06it/s]"
     ]
    }
   ],
   "source": [
    "# search here --- Original Dataset\n",
    "# Q1: Not allow shorting\n",
    "\n",
    "SAVE = 40000\n",
    "CAP = 50000\n",
    "g = 0.11\n",
    "tax = 0\n",
    "path_length=120\n",
    "\n",
    "MC = 100\n",
    "\n",
    "df_compare_5Y_NS = pd.DataFrame(index=range(n_grids),columns = ['Utility','Sharpe','Sortino','Mdd','Prob'])\n",
    "\n",
    "for idx in tqdm(range(n_grids)):\n",
    "    ratio = (df_grid.iloc[idx,:]).to_list()\n",
    "    temp_df = Experiments(MC,path_length,train_df,CAP,SAVE,g,ratio,year=60,tax=tax)\n",
    "    uiti_5Y = temp_df['5Y_cap'].apply(lambda x: np.log(x))\n",
    "    df_compare_5Y_NS.iloc[idx,0] = np.nanmean(uiti_5Y)\n",
    "    df_compare_5Y_NS.iloc[idx,1] = np.nanmean(temp_df['5Y_sharpe'])\n",
    "    df_compare_5Y_NS.iloc[idx,2] = np.nanmean(temp_df['5Y_sortino'])\n",
    "    df_compare_5Y_NS.iloc[idx,3] = np.nanmean(temp_df['5Y_mdd'])\n",
    "    df_compare_5Y_NS.iloc[idx,2] = (temp_df['5Y_cap'] >= 500000).mean()\n",
    "df_compare_5Y_NS = df_compare_5Y_NS.fillna(0)\n",
    "df_compare_5Y_NS"
   ]
  },
  {
   "cell_type": "code",
   "execution_count": null,
   "metadata": {},
   "outputs": [],
   "source": [
    "df_results = pd.DataFrame(index=['5Y_cap','5Y_sharpe','5Y_sortino','5Y_mdd'],\\\n",
    "                          columns=['x1','x2','x3','x4','x5'])\n",
    "\n",
    "df_results.iloc[0,:] = df_grid2.iloc[df_compare_5Y_NS[['Sharpe']].idxmax(),:]\n",
    "df_results.iloc[1,:] = df_grid2.iloc[df_compare_5Y_NS[['Utility']].idxmax(),:]\n",
    "df_results.iloc[2,:] = df_grid2.iloc[df_compare_5Y_NS[['Prob']].idxmax(),:]\n",
    "df_results.iloc[3,:] = df_grid2.iloc[df_compare_7Y_NS[['Sharpe']].idxmax(),:]\n",
    "df_results.iloc[4,:] = df_grid2.iloc[df_compare_7Y_NS[['Utility']].idxmax(),:]\n",
    "df_results.iloc[5,:] = df_grid2.iloc[df_compare_7Y_NS[['Prob']].idxmax(),:]"
   ]
  }
 ],
 "metadata": {
  "kernelspec": {
   "display_name": "base",
   "language": "python",
   "name": "python3"
  },
  "language_info": {
   "codemirror_mode": {
    "name": "ipython",
    "version": 3
   },
   "file_extension": ".py",
   "mimetype": "text/x-python",
   "name": "python",
   "nbconvert_exporter": "python",
   "pygments_lexer": "ipython3",
   "version": "3.10.9"
  }
 },
 "nbformat": 4,
 "nbformat_minor": 2
}
