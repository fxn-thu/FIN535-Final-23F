{
 "cells": [
  {
   "cell_type": "code",
   "execution_count": 1,
   "metadata": {},
   "outputs": [],
   "source": [
    "import numpy as np\n",
    "import pandas as pd\n",
    "import math\n",
    "import seaborn as sns\n",
    "from datetime import datetime\n",
    "import matplotlib.pyplot as plt\n",
    "import cvxpy as cp\n",
    "import warnings\n",
    "warnings.filterwarnings(\"ignore\")"
   ]
  },
  {
   "cell_type": "code",
   "execution_count": 2,
   "metadata": {},
   "outputs": [
    {
     "data": {
      "text/plain": [
       "<module 'McExperiment' from 'd:\\\\OneDriveLenovoD\\\\OneDrive\\\\A_Fall23\\\\FIN535\\\\HW2023\\\\Final\\\\McExperiment.py'>"
      ]
     },
     "execution_count": 2,
     "metadata": {},
     "output_type": "execute_result"
    }
   ],
   "source": [
    "import McExperiment\n",
    "from McExperiment import *\n",
    "import importlib\n",
    "importlib.reload(McExperiment)"
   ]
  },
  {
   "cell_type": "code",
   "execution_count": 3,
   "metadata": {},
   "outputs": [
    {
     "data": {
      "text/html": [
       "<div>\n",
       "<style scoped>\n",
       "    .dataframe tbody tr th:only-of-type {\n",
       "        vertical-align: middle;\n",
       "    }\n",
       "\n",
       "    .dataframe tbody tr th {\n",
       "        vertical-align: top;\n",
       "    }\n",
       "\n",
       "    .dataframe thead th {\n",
       "        text-align: right;\n",
       "    }\n",
       "</style>\n",
       "<table border=\"1\" class=\"dataframe\">\n",
       "  <thead>\n",
       "    <tr style=\"text-align: right;\">\n",
       "      <th></th>\n",
       "      <th>month</th>\n",
       "      <th>SPY</th>\n",
       "      <th>TLT</th>\n",
       "      <th>BAB</th>\n",
       "      <th>VOL</th>\n",
       "      <th>rf</th>\n",
       "    </tr>\n",
       "  </thead>\n",
       "  <tbody>\n",
       "    <tr>\n",
       "      <th>0</th>\n",
       "      <td>2019-11-01</td>\n",
       "      <td>0.036170</td>\n",
       "      <td>-0.004912</td>\n",
       "      <td>-0.0281</td>\n",
       "      <td>-0.008551</td>\n",
       "      <td>0.0012</td>\n",
       "    </tr>\n",
       "    <tr>\n",
       "      <th>1</th>\n",
       "      <td>2013-02-01</td>\n",
       "      <td>0.013494</td>\n",
       "      <td>0.012934</td>\n",
       "      <td>0.0187</td>\n",
       "      <td>-0.049478</td>\n",
       "      <td>0.0000</td>\n",
       "    </tr>\n",
       "    <tr>\n",
       "      <th>2</th>\n",
       "      <td>2008-05-01</td>\n",
       "      <td>0.012862</td>\n",
       "      <td>-0.024560</td>\n",
       "      <td>0.0085</td>\n",
       "      <td>0.006354</td>\n",
       "      <td>0.0018</td>\n",
       "    </tr>\n",
       "    <tr>\n",
       "      <th>3</th>\n",
       "      <td>2015-02-01</td>\n",
       "      <td>0.057365</td>\n",
       "      <td>-0.058042</td>\n",
       "      <td>-0.0209</td>\n",
       "      <td>-0.002007</td>\n",
       "      <td>0.0000</td>\n",
       "    </tr>\n",
       "    <tr>\n",
       "      <th>4</th>\n",
       "      <td>2006-05-01</td>\n",
       "      <td>-0.028782</td>\n",
       "      <td>0.001219</td>\n",
       "      <td>0.0025</td>\n",
       "      <td>0.005858</td>\n",
       "      <td>0.0043</td>\n",
       "    </tr>\n",
       "  </tbody>\n",
       "</table>\n",
       "</div>"
      ],
      "text/plain": [
       "        month       SPY       TLT     BAB       VOL      rf\n",
       "0  2019-11-01  0.036170 -0.004912 -0.0281 -0.008551  0.0012\n",
       "1  2013-02-01  0.013494  0.012934  0.0187 -0.049478  0.0000\n",
       "2  2008-05-01  0.012862 -0.024560  0.0085  0.006354  0.0018\n",
       "3  2015-02-01  0.057365 -0.058042 -0.0209 -0.002007  0.0000\n",
       "4  2006-05-01 -0.028782  0.001219  0.0025  0.005858  0.0043"
      ]
     },
     "execution_count": 3,
     "metadata": {},
     "output_type": "execute_result"
    }
   ],
   "source": [
    "train = pd.read_csv('train.csv')\n",
    "train.head()"
   ]
  },
  {
   "cell_type": "code",
   "execution_count": 4,
   "metadata": {},
   "outputs": [
    {
     "name": "stdout",
     "output_type": "stream",
     "text": [
      "[0.6, 0.4, 0.5, 0.5, 0]\n"
     ]
    },
    {
     "data": {
      "text/html": [
       "<div>\n",
       "<style scoped>\n",
       "    .dataframe tbody tr th:only-of-type {\n",
       "        vertical-align: middle;\n",
       "    }\n",
       "\n",
       "    .dataframe tbody tr th {\n",
       "        vertical-align: top;\n",
       "    }\n",
       "\n",
       "    .dataframe thead th {\n",
       "        text-align: right;\n",
       "    }\n",
       "</style>\n",
       "<table border=\"1\" class=\"dataframe\">\n",
       "  <thead>\n",
       "    <tr style=\"text-align: right;\">\n",
       "      <th></th>\n",
       "      <th>Expected Cap</th>\n",
       "      <th>Std Cap</th>\n",
       "      <th>Exp Cap &lt; 500k</th>\n",
       "      <th>Prob &gt;= 500k</th>\n",
       "      <th>Expected Annual_sharpe</th>\n",
       "      <th>Expected MDD</th>\n",
       "      <th>ret VaR</th>\n",
       "      <th>ret CVaR</th>\n",
       "      <th>GaR</th>\n",
       "      <th>CGaR</th>\n",
       "    </tr>\n",
       "  </thead>\n",
       "  <tbody>\n",
       "    <tr>\n",
       "      <th>5Y</th>\n",
       "      <td>2433331.38</td>\n",
       "      <td>373367.80</td>\n",
       "      <td>0</td>\n",
       "      <td>1.0</td>\n",
       "      <td>1.20</td>\n",
       "      <td>0.10</td>\n",
       "      <td>9.63</td>\n",
       "      <td>8.88</td>\n",
       "      <td>1195471.16</td>\n",
       "      <td>997229.14</td>\n",
       "    </tr>\n",
       "    <tr>\n",
       "      <th>7Y</th>\n",
       "      <td>7989497.09</td>\n",
       "      <td>1648936.16</td>\n",
       "      <td>0</td>\n",
       "      <td>1.0</td>\n",
       "      <td>1.21</td>\n",
       "      <td>0.11</td>\n",
       "      <td>32.82</td>\n",
       "      <td>22.83</td>\n",
       "      <td>4827836.65</td>\n",
       "      <td>3321648.80</td>\n",
       "    </tr>\n",
       "    <tr>\n",
       "      <th>10Y</th>\n",
       "      <td>45315023.54</td>\n",
       "      <td>12132390.39</td>\n",
       "      <td>0</td>\n",
       "      <td>1.0</td>\n",
       "      <td>1.21</td>\n",
       "      <td>0.11</td>\n",
       "      <td>157.15</td>\n",
       "      <td>156.50</td>\n",
       "      <td>25340363.34</td>\n",
       "      <td>23707390.71</td>\n",
       "    </tr>\n",
       "  </tbody>\n",
       "</table>\n",
       "</div>"
      ],
      "text/plain": [
       "     Expected Cap      Std Cap  Exp Cap < 500k  Prob >= 500k  \\\n",
       "5Y     2433331.38    373367.80               0           1.0   \n",
       "7Y     7989497.09   1648936.16               0           1.0   \n",
       "10Y   45315023.54  12132390.39               0           1.0   \n",
       "\n",
       "     Expected Annual_sharpe  Expected MDD  ret VaR  ret CVaR          GaR  \\\n",
       "5Y                     1.20          0.10     9.63      8.88   1195471.16   \n",
       "7Y                     1.21          0.11    32.82     22.83   4827836.65   \n",
       "10Y                    1.21          0.11   157.15    156.50  25340363.34   \n",
       "\n",
       "            CGaR  \n",
       "5Y     997229.14  \n",
       "7Y    3321648.80  \n",
       "10Y  23707390.71  "
      ]
     },
     "execution_count": 4,
     "metadata": {},
     "output_type": "execute_result"
    }
   ],
   "source": [
    "# 5Y max Sharpe Strategy -------------------------------------------------------------------------------\n",
    "# All value ar risk quoted in a return way (not in a loss way)\n",
    "ratio1 = [0.6,0.4,0.5,0.5,0]\n",
    "print(ratio1)\n",
    "SAVE = 40000\n",
    "CAP = 50000\n",
    "g = 0.05\n",
    "MC = 100\n",
    "# Get the analysis for end of 5Y/7Y/10Y \n",
    "Simu_table = Experiments(MC,120,train,CAP,SAVE,g,ratio1,years=[60,84,120],tax=0)\n",
    "Summary_table = GetSummary(Simu_table)\n",
    "Summary_table = Summary_table.fillna(0)\n",
    "Summary_table.round(2)"
   ]
  },
  {
   "cell_type": "code",
   "execution_count": null,
   "metadata": {},
   "outputs": [],
   "source": []
  }
 ],
 "metadata": {
  "kernelspec": {
   "display_name": "apc524",
   "language": "python",
   "name": "python3"
  },
  "language_info": {
   "codemirror_mode": {
    "name": "ipython",
    "version": 3
   },
   "file_extension": ".py",
   "mimetype": "text/x-python",
   "name": "python",
   "nbconvert_exporter": "python",
   "pygments_lexer": "ipython3",
   "version": "3.10.0"
  }
 },
 "nbformat": 4,
 "nbformat_minor": 2
}
