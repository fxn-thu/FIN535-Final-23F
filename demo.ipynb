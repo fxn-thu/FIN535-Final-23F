{
 "cells": [
  {
   "cell_type": "code",
   "execution_count": 1,
   "metadata": {},
   "outputs": [],
   "source": [
    "import numpy as np\n",
    "import pandas as pd\n",
    "import math\n",
    "import seaborn as sns\n",
    "from datetime import datetime\n",
    "import matplotlib.pyplot as plt\n",
    "import cvxpy as cp\n",
    "import warnings\n",
    "warnings.filterwarnings(\"ignore\")"
   ]
  },
  {
   "cell_type": "code",
   "execution_count": 2,
   "metadata": {},
   "outputs": [
    {
     "data": {
      "text/plain": [
       "<module 'McExperiment' from 'd:\\\\OneDriveLenovoD\\\\OneDrive\\\\A_Fall23\\\\FIN535\\\\HW2023\\\\FIN535-Final-23F\\\\Dec20\\\\FIN535-Final-23F\\\\McExperiment.py'>"
      ]
     },
     "execution_count": 2,
     "metadata": {},
     "output_type": "execute_result"
    }
   ],
   "source": [
    "import McExperiment\n",
    "from McExperiment import *\n",
    "import importlib\n",
    "importlib.reload(McExperiment)"
   ]
  },
  {
   "cell_type": "code",
   "execution_count": 3,
   "metadata": {},
   "outputs": [],
   "source": [
    "data = pd.read_csv('data.csv')\n",
    "data['month'] = data['month'].apply(lambda x: datetime.strptime(x, '%Y-%m')) #assume each date per month is the last day\n",
    "data.set_index(['month'],inplace=True)"
   ]
  },
  {
   "cell_type": "code",
   "execution_count": 6,
   "metadata": {},
   "outputs": [
    {
     "name": "stdout",
     "output_type": "stream",
     "text": [
      "[0.54, 0.91, 0.59, 0.63, -0.45]\n"
     ]
    },
    {
     "data": {
      "text/html": [
       "<div>\n",
       "<style scoped>\n",
       "    .dataframe tbody tr th:only-of-type {\n",
       "        vertical-align: middle;\n",
       "    }\n",
       "\n",
       "    .dataframe tbody tr th {\n",
       "        vertical-align: top;\n",
       "    }\n",
       "\n",
       "    .dataframe thead th {\n",
       "        text-align: right;\n",
       "    }\n",
       "</style>\n",
       "<table border=\"1\" class=\"dataframe\">\n",
       "  <thead>\n",
       "    <tr style=\"text-align: right;\">\n",
       "      <th></th>\n",
       "      <th>Expected Cap</th>\n",
       "      <th>Std Cap</th>\n",
       "      <th>Exp Cap &lt; 500k</th>\n",
       "      <th>Prob &gt;= 500k</th>\n",
       "      <th>Expected Annual_sharpe</th>\n",
       "      <th>Expected Annual_sortino</th>\n",
       "      <th>Expected MDD</th>\n",
       "      <th>ret VaR</th>\n",
       "      <th>ret CVaR</th>\n",
       "      <th>cap VaR</th>\n",
       "      <th>cap CVaR</th>\n",
       "    </tr>\n",
       "  </thead>\n",
       "  <tbody>\n",
       "    <tr>\n",
       "      <th>5Y</th>\n",
       "      <td>277786.71</td>\n",
       "      <td>64603.52</td>\n",
       "      <td>277786.71</td>\n",
       "      <td>0.00</td>\n",
       "      <td>1.38</td>\n",
       "      <td>1.89</td>\n",
       "      <td>0.21</td>\n",
       "      <td>0.44</td>\n",
       "      <td>0.44</td>\n",
       "      <td>-336025.46</td>\n",
       "      <td>-344658.40</td>\n",
       "    </tr>\n",
       "    <tr>\n",
       "      <th>7Y</th>\n",
       "      <td>473377.85</td>\n",
       "      <td>82419.95</td>\n",
       "      <td>416810.12</td>\n",
       "      <td>0.41</td>\n",
       "      <td>1.37</td>\n",
       "      <td>1.89</td>\n",
       "      <td>0.23</td>\n",
       "      <td>1.46</td>\n",
       "      <td>1.46</td>\n",
       "      <td>-166784.41</td>\n",
       "      <td>-180082.51</td>\n",
       "    </tr>\n",
       "    <tr>\n",
       "      <th>10Y</th>\n",
       "      <td>1072469.31</td>\n",
       "      <td>175362.85</td>\n",
       "      <td>0.00</td>\n",
       "      <td>1.00</td>\n",
       "      <td>1.47</td>\n",
       "      <td>2.06</td>\n",
       "      <td>0.23</td>\n",
       "      <td>2.91</td>\n",
       "      <td>2.83</td>\n",
       "      <td>200359.02</td>\n",
       "      <td>196816.48</td>\n",
       "    </tr>\n",
       "  </tbody>\n",
       "</table>\n",
       "</div>"
      ],
      "text/plain": [
       "     Expected Cap    Std Cap  Exp Cap < 500k  Prob >= 500k  \\\n",
       "5Y      277786.71   64603.52       277786.71          0.00   \n",
       "7Y      473377.85   82419.95       416810.12          0.41   \n",
       "10Y    1072469.31  175362.85            0.00          1.00   \n",
       "\n",
       "     Expected Annual_sharpe  Expected Annual_sortino  Expected MDD  ret VaR  \\\n",
       "5Y                     1.38                     1.89          0.21     0.44   \n",
       "7Y                     1.37                     1.89          0.23     1.46   \n",
       "10Y                    1.47                     2.06          0.23     2.91   \n",
       "\n",
       "     ret CVaR    cap VaR   cap CVaR  \n",
       "5Y       0.44 -336025.46 -344658.40  \n",
       "7Y       1.46 -166784.41 -180082.51  \n",
       "10Y      2.83  200359.02  196816.48  "
      ]
     },
     "execution_count": 6,
     "metadata": {},
     "output_type": "execute_result"
    }
   ],
   "source": [
    "# 5Y max Sharpe Strategy -------------------------------------------------------------------------------\n",
    "# All value ar risk quoted in a return way (not in a loss way)\n",
    "ratio1 = [0.54, 0.91, 0.59,\t0.63, -0.45]\n",
    "print(ratio1)\n",
    "SAVE = 40000\n",
    "CAP = 50000\n",
    "g = 0.11\n",
    "MC = 500\n",
    "path_length = 120 # 10 year\n",
    "tax_rate = 0.25\n",
    "# Get the analysis for end of 5Y/7Y/10Y \n",
    "Simu_table, Simu_cap_table = Experiments(MC,120,data,CAP,SAVE,g,ratio1,years=[60,84,120],tax=tax_rate)\n",
    "Summary_table,cap_table = GetSummary(Simu_table, Simu_cap_table, path_length)\n",
    "Summary_table = Summary_table.fillna(0)\n",
    "Summary_table.round(2)"
   ]
  },
  {
   "cell_type": "code",
   "execution_count": null,
   "metadata": {},
   "outputs": [],
   "source": []
  }
 ],
 "metadata": {
  "kernelspec": {
   "display_name": "apc524",
   "language": "python",
   "name": "python3"
  },
  "language_info": {
   "codemirror_mode": {
    "name": "ipython",
    "version": 3
   },
   "file_extension": ".py",
   "mimetype": "text/x-python",
   "name": "python",
   "nbconvert_exporter": "python",
   "pygments_lexer": "ipython3",
   "version": "3.10.0"
  }
 },
 "nbformat": 4,
 "nbformat_minor": 2
}
