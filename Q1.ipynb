{
 "cells": [
  {
   "cell_type": "code",
   "execution_count": 1,
   "metadata": {},
   "outputs": [],
   "source": [
    "import numpy as np\n",
    "import pandas as pd\n",
    "from datetime import datetime\n",
    "import matplotlib.pyplot as plt\n",
    "from matplotlib.pyplot import cm\n",
    "import warnings\n",
    "from tqdm import tqdm\n",
    "warnings.filterwarnings(\"ignore\")"
   ]
  },
  {
   "cell_type": "code",
   "execution_count": 2,
   "metadata": {},
   "outputs": [
    {
     "data": {
      "text/plain": [
       "<module 'McExperiment' from 'd:\\\\OneDriveLenovoD\\\\OneDrive\\\\A_Fall23\\\\FIN535\\\\HW2023\\\\FIN535-Final-23F\\\\Dec20\\\\FIN535-Final-23F\\\\McExperiment.py'>"
      ]
     },
     "execution_count": 2,
     "metadata": {},
     "output_type": "execute_result"
    }
   ],
   "source": [
    "import McExperiment\n",
    "from McExperiment import *\n",
    "import importlib\n",
    "importlib.reload(McExperiment)"
   ]
  },
  {
   "cell_type": "code",
   "execution_count": 3,
   "metadata": {},
   "outputs": [],
   "source": [
    "data = pd.read_csv('data.csv')\n",
    "data['month'] = data['month'].apply(lambda x: datetime.strptime(x, '%Y-%m')) #assume each date per month is the last day\n",
    "data.set_index(['month'],inplace=True)"
   ]
  },
  {
   "cell_type": "code",
   "execution_count": 4,
   "metadata": {},
   "outputs": [
    {
     "data": {
      "text/html": [
       "<div>\n",
       "<style scoped>\n",
       "    .dataframe tbody tr th:only-of-type {\n",
       "        vertical-align: middle;\n",
       "    }\n",
       "\n",
       "    .dataframe tbody tr th {\n",
       "        vertical-align: top;\n",
       "    }\n",
       "\n",
       "    .dataframe thead th {\n",
       "        text-align: right;\n",
       "    }\n",
       "</style>\n",
       "<table border=\"1\" class=\"dataframe\">\n",
       "  <thead>\n",
       "    <tr style=\"text-align: right;\">\n",
       "      <th></th>\n",
       "      <th>x1</th>\n",
       "      <th>x2</th>\n",
       "      <th>x3</th>\n",
       "      <th>x4</th>\n",
       "      <th>x5</th>\n",
       "      <th>sharpe</th>\n",
       "      <th>mdd</th>\n",
       "      <th>uti</th>\n",
       "      <th>CE</th>\n",
       "      <th>sortino</th>\n",
       "    </tr>\n",
       "  </thead>\n",
       "  <tbody>\n",
       "    <tr>\n",
       "      <th>max uti</th>\n",
       "      <td>0.181262</td>\n",
       "      <td>1.024393</td>\n",
       "      <td>0.750000</td>\n",
       "      <td>0.75</td>\n",
       "      <td>-0.205655</td>\n",
       "      <td>1.097224</td>\n",
       "      <td>0.250001</td>\n",
       "      <td>0.006363</td>\n",
       "      <td>12.076599</td>\n",
       "      <td>1.583711</td>\n",
       "    </tr>\n",
       "    <tr>\n",
       "      <th>max sharpe</th>\n",
       "      <td>0.490185</td>\n",
       "      <td>0.509815</td>\n",
       "      <td>0.342315</td>\n",
       "      <td>0.75</td>\n",
       "      <td>-0.000000</td>\n",
       "      <td>1.552223</td>\n",
       "      <td>0.250000</td>\n",
       "      <td>0.005783</td>\n",
       "      <td>12.069595</td>\n",
       "      <td>2.142872</td>\n",
       "    </tr>\n",
       "    <tr>\n",
       "      <th>max sortino</th>\n",
       "      <td>0.484227</td>\n",
       "      <td>0.515773</td>\n",
       "      <td>0.356543</td>\n",
       "      <td>0.75</td>\n",
       "      <td>-0.000000</td>\n",
       "      <td>1.551894</td>\n",
       "      <td>0.250000</td>\n",
       "      <td>0.005807</td>\n",
       "      <td>12.069884</td>\n",
       "      <td>2.143256</td>\n",
       "    </tr>\n",
       "    <tr>\n",
       "      <th>min mdd</th>\n",
       "      <td>0.463338</td>\n",
       "      <td>0.536662</td>\n",
       "      <td>0.280175</td>\n",
       "      <td>0.75</td>\n",
       "      <td>-0.000000</td>\n",
       "      <td>1.510296</td>\n",
       "      <td>0.196292</td>\n",
       "      <td>0.005592</td>\n",
       "      <td>12.067296</td>\n",
       "      <td>2.096605</td>\n",
       "    </tr>\n",
       "  </tbody>\n",
       "</table>\n",
       "</div>"
      ],
      "text/plain": [
       "                   x1        x2        x3    x4        x5    sharpe       mdd  \\\n",
       "max uti      0.181262  1.024393  0.750000  0.75 -0.205655  1.097224  0.250001   \n",
       "max sharpe   0.490185  0.509815  0.342315  0.75 -0.000000  1.552223  0.250000   \n",
       "max sortino  0.484227  0.515773  0.356543  0.75 -0.000000  1.551894  0.250000   \n",
       "min mdd      0.463338  0.536662  0.280175  0.75 -0.000000  1.510296  0.196292   \n",
       "\n",
       "                  uti         CE   sortino  \n",
       "max uti      0.006363  12.076599  1.583711  \n",
       "max sharpe   0.005783  12.069595  2.142872  \n",
       "max sortino  0.005807  12.069884  2.143256  \n",
       "min mdd      0.005592  12.067296  2.096605  "
      ]
     },
     "execution_count": 4,
     "metadata": {},
     "output_type": "execute_result"
    }
   ],
   "source": [
    "# read in optimal allocation from excel \n",
    "def read_condo_rst(n_strat=4):\n",
    "    # return a table, row = objective, col = optimal allocation, and some critical stats\n",
    "    ratios = []\n",
    "    objs = []\n",
    "    for i in range(n_strat): # for each objective, which corresponds to each sheet\n",
    "        objs += [list(pd.read_excel('final sheet.xlsx', sheet_name=i).iloc[[11,13,15,17,19],8].values.astype('f'))]\n",
    "        ratio = list(pd.read_excel('final sheet.xlsx', sheet_name=i).iloc[2,7:12].values.astype('f'))\n",
    "        ratio[4] *= -1\n",
    "        ratios += [ratio]\n",
    "    opt_ratios = pd.DataFrame(ratios, index = ['max uti','max sharpe','max sortino','min mdd'], \n",
    "                  columns=['x1','x2','x3','x4','x5'])\n",
    "    opt_objs = pd.DataFrame(objs, index = ['max uti','max sharpe','max sortino','min mdd'],\\\n",
    "                        columns = ['sharpe','mdd','uti','CE','sortino'])\n",
    "    return pd.concat([opt_ratios, opt_objs],axis = 1)\n",
    "\n",
    "n_strat=4\n",
    "opt_excel_soln = read_condo_rst(n_strat)\n",
    "opt_excel_soln"
   ]
  },
  {
   "cell_type": "code",
   "execution_count": 5,
   "metadata": {},
   "outputs": [],
   "source": [
    "# Read ratios from grid search \n",
    "with open('storage cache/df_results.pkl', 'rb') as file:\n",
    "    grid_ratios = pickle.load(file)"
   ]
  },
  {
   "cell_type": "markdown",
   "metadata": {},
   "source": [
    "#### Note:\n",
    "\n",
    "excel results are quite different from the sim results because:\n",
    "- sim is not a good method and has many cons\n",
    "- max uti in sim result is max(cap after tax), excel is max mean(each log(1+simple return))\n",
    "- sim result's sharpe and sortino did not minus risk-free in the numerator\n",
    "- "
   ]
  },
  {
   "cell_type": "markdown",
   "metadata": {},
   "source": [
    "### Add bench and initilize + Run results"
   ]
  },
  {
   "cell_type": "code",
   "execution_count": 6,
   "metadata": {},
   "outputs": [],
   "source": [
    "bench_ratio = pd.DataFrame(np.array([[0.6,0.4,0,0,0], [0.7,0.3,0,0,0], [0.5,0.5,0,0,0]]),\\\n",
    "    columns = ['x1','x2','x3','x4','x5'], index = ['bench6/4','bench7/3','bench5/5'])\n",
    "\n",
    "ratios = pd.concat([bench_ratio,opt_excel_soln.iloc[np.r_[0,2:4],:5],\\\n",
    "    grid_ratios.iloc[np.r_[0,2:5],:]], axis = 0)"
   ]
  },
  {
   "cell_type": "code",
   "execution_count": 17,
   "metadata": {},
   "outputs": [
    {
     "data": {
      "text/plain": [
       "Index(['bench6/4', 'bench7/3', 'bench5/5', 'max uti', 'max sortino', 'min mdd',\n",
       "       'uti', 'sortino', 'mdd', 'prob'],\n",
       "      dtype='object')"
      ]
     },
     "execution_count": 17,
     "metadata": {},
     "output_type": "execute_result"
    }
   ],
   "source": [
    "# Only keep the max sortino (drop max sharpe)\n",
    "ratios.index"
   ]
  },
  {
   "cell_type": "code",
   "execution_count": 8,
   "metadata": {},
   "outputs": [],
   "source": [
    "condo_rst = dict()\n",
    "condo_rst['ratios'] = ratios\n",
    "condo_rst['Simu_table'] = [] # simulated results before taking the avg\n",
    "condo_rst['Cap_table'] = [] # for the financial diamond construction\n",
    "condo_rst['Summary_table'] = [] # after taking the avg of simulated results, then compute some critical stats\n"
   ]
  },
  {
   "cell_type": "code",
   "execution_count": 9,
   "metadata": {},
   "outputs": [
    {
     "name": "stderr",
     "output_type": "stream",
     "text": [
      "  0%|          | 0/10 [00:00<?, ?it/s]"
     ]
    },
    {
     "name": "stderr",
     "output_type": "stream",
     "text": [
      "100%|██████████| 10/10 [01:29<00:00,  8.96s/it]\n"
     ]
    }
   ],
   "source": [
    "SAVE = 40000\n",
    "CAP = 50000\n",
    "g = 0.11\n",
    "MC = 500\n",
    "path_length = 120 # 10 year\n",
    "tax_rate = 0.25\n",
    "\n",
    "\n",
    "# for i in tqdm(range(len(ratios))):\n",
    "#     ratio = (ratios.iloc[i,:]).to_list()\n",
    "#     # Get the analysis for end of 5Y/7Y/9Y  \n",
    "#     Simu_table, Simu_cap_table = Experiments(MC,path_length,data,CAP,SAVE,g,ratio,years=[60,84,120],tax=tax_rate)\n",
    "#     Summary_table, cap_table = GetSummary(Simu_table, Simu_cap_table, path_length)\n",
    "#     Summary_table = Summary_table.fillna(0)\n",
    "#     condo_rst['Simu_table'].append(Simu_table)\n",
    "#     condo_rst['Cap_table'].append(cap_table)\n",
    "#     condo_rst['Summary_table'].append(Summary_table)"
   ]
  },
  {
   "cell_type": "code",
   "execution_count": 10,
   "metadata": {},
   "outputs": [],
   "source": [
    "# with open('storage cache/condo_rst.pkl', 'wb') as file:\n",
    "#     pickle.dump(condo_rst, file)"
   ]
  },
  {
   "cell_type": "markdown",
   "metadata": {},
   "source": [
    "### Save the results: Plots and Tables"
   ]
  },
  {
   "cell_type": "code",
   "execution_count": 3,
   "metadata": {},
   "outputs": [],
   "source": [
    "with open('storage cache/condo_rst.pkl', 'rb') as file:\n",
    "        condo_rst = pickle.load(file)"
   ]
  },
  {
   "cell_type": "code",
   "execution_count": 14,
   "metadata": {},
   "outputs": [],
   "source": [
    "# Get stat table:\n",
    "ptf_name = ['bench6/4', 'bench7/3', 'bench5/5', 'max uti', 'max sortino', 'min mdd',\\\n",
    "    'mc max uti', 'mc max sortino', 'mc min dd','mc max prob']\n",
    "\n",
    "df_full = pd.concat(condo_rst['Summary_table'])"
   ]
  },
  {
   "cell_type": "code",
   "execution_count": 30,
   "metadata": {},
   "outputs": [],
   "source": [
    "df_5Y = df_full.loc[df_full.index == '5Y']\n",
    "indexstr = [sub + ' 5Y' for sub in ptf_name] \n",
    "df_5Y.index = indexstr\n",
    "# df_5Y.to_csv('storage cache/stat_condo_5Y.csv')"
   ]
  },
  {
   "cell_type": "code",
   "execution_count": 31,
   "metadata": {},
   "outputs": [],
   "source": [
    "df_7Y = df_full.loc[df_full.index == '7Y']\n",
    "indexstr = [sub + ' 7Y' for sub in ptf_name] \n",
    "df_7Y.index = indexstr\n",
    "# df_7Y.to_csv('storage cache/stat_condo_7Y.csv')"
   ]
  },
  {
   "cell_type": "code",
   "execution_count": 32,
   "metadata": {},
   "outputs": [],
   "source": [
    "df_10Y = df_full.loc[df_full.index == '10Y']\n",
    "indexstr = [sub + ' 10Y' for sub in ptf_name] \n",
    "df_10Y.index = indexstr\n",
    "# df_10Y.to_csv('storage cache/stat_condo_10Y.csv')"
   ]
  },
  {
   "cell_type": "code",
   "execution_count": 35,
   "metadata": {},
   "outputs": [],
   "source": [
    "df_cap = pd.concat(condo_rst['Cap_table'],axis = 1)\n",
    "df_cap.columns = ptf_name"
   ]
  },
  {
   "cell_type": "code",
   "execution_count": 36,
   "metadata": {},
   "outputs": [
    {
     "data": {
      "image/png": "[encoded data removed]",
      "text/plain": [
       "<Figure size 1000x600 with 1 Axes>"
      ]
     },
     "metadata": {},
     "output_type": "display_data"
    }
   ],
   "source": [
    "plt.figure(figsize=(10, 6))\n",
    "plt.plot(df_cap)\n",
    "plt.axhline(y=500000, color='grey', linestyle='-')\n",
    "plt.legend(ptf_name)\n",
    "plt.savefig('figures/condo_capitalplot_all.png',bbox_inches='tight')\n",
    "plt.show()\n"
   ]
  },
  {
   "cell_type": "code",
   "execution_count": 37,
   "metadata": {},
   "outputs": [
    {
     "data": {
      "text/html": [
       "<div>\n",
       "<style scoped>\n",
       "    .dataframe tbody tr th:only-of-type {\n",
       "        vertical-align: middle;\n",
       "    }\n",
       "\n",
       "    .dataframe tbody tr th {\n",
       "        vertical-align: top;\n",
       "    }\n",
       "\n",
       "    .dataframe thead th {\n",
       "        text-align: right;\n",
       "    }\n",
       "</style>\n",
       "<table border=\"1\" class=\"dataframe\">\n",
       "  <thead>\n",
       "    <tr style=\"text-align: right;\">\n",
       "      <th></th>\n",
       "      <th>Expected Cap</th>\n",
       "      <th>Std Cap</th>\n",
       "      <th>Exp Cap &lt; 500k</th>\n",
       "      <th>Prob &gt;= 500k</th>\n",
       "      <th>Expected Annual_sharpe</th>\n",
       "      <th>Expected Annual_sortino</th>\n",
       "      <th>Expected MDD</th>\n",
       "      <th>ret VaR</th>\n",
       "      <th>ret CVaR</th>\n",
       "      <th>cap VaR</th>\n",
       "      <th>cap CVaR</th>\n",
       "    </tr>\n",
       "  </thead>\n",
       "  <tbody>\n",
       "    <tr>\n",
       "      <th>bench6/4 5Y</th>\n",
       "      <td>219358.941579</td>\n",
       "      <td>48735.878902</td>\n",
       "      <td>219358.941579</td>\n",
       "      <td>0.0</td>\n",
       "      <td>1.152187</td>\n",
       "      <td>1.568353</td>\n",
       "      <td>0.174422</td>\n",
       "      <td>0.052542</td>\n",
       "      <td>-0.009234</td>\n",
       "      <td>-376866.326667</td>\n",
       "      <td>-377206.412035</td>\n",
       "    </tr>\n",
       "    <tr>\n",
       "      <th>bench7/3 5Y</th>\n",
       "      <td>216009.458376</td>\n",
       "      <td>46656.698248</td>\n",
       "      <td>216009.458376</td>\n",
       "      <td>0.0</td>\n",
       "      <td>0.995753</td>\n",
       "      <td>1.375427</td>\n",
       "      <td>0.232582</td>\n",
       "      <td>-0.034797</td>\n",
       "      <td>-0.105604</td>\n",
       "      <td>-376873.590389</td>\n",
       "      <td>-377693.034874</td>\n",
       "    </tr>\n",
       "    <tr>\n",
       "      <th>bench5/5 5Y</th>\n",
       "      <td>219366.743325</td>\n",
       "      <td>49130.051278</td>\n",
       "      <td>219366.743325</td>\n",
       "      <td>0.0</td>\n",
       "      <td>1.142624</td>\n",
       "      <td>1.509593</td>\n",
       "      <td>0.141305</td>\n",
       "      <td>0.121183</td>\n",
       "      <td>0.081306</td>\n",
       "      <td>-377315.569716</td>\n",
       "      <td>-377437.496748</td>\n",
       "    </tr>\n",
       "    <tr>\n",
       "      <th>max uti 5Y</th>\n",
       "      <td>281591.540497</td>\n",
       "      <td>67167.006228</td>\n",
       "      <td>281591.540497</td>\n",
       "      <td>0.0</td>\n",
       "      <td>1.158030</td>\n",
       "      <td>1.678318</td>\n",
       "      <td>0.186775</td>\n",
       "      <td>0.543495</td>\n",
       "      <td>0.541983</td>\n",
       "      <td>-354219.647251</td>\n",
       "      <td>-356494.296161</td>\n",
       "    </tr>\n",
       "    <tr>\n",
       "      <th>max sortino 5Y</th>\n",
       "      <td>261626.545288</td>\n",
       "      <td>64320.196410</td>\n",
       "      <td>261626.545288</td>\n",
       "      <td>0.0</td>\n",
       "      <td>1.660710</td>\n",
       "      <td>2.190347</td>\n",
       "      <td>0.132939</td>\n",
       "      <td>0.543457</td>\n",
       "      <td>0.522916</td>\n",
       "      <td>-366646.465827</td>\n",
       "      <td>-368852.958279</td>\n",
       "    </tr>\n",
       "    <tr>\n",
       "      <th>min mdd 5Y</th>\n",
       "      <td>257167.296337</td>\n",
       "      <td>68183.713581</td>\n",
       "      <td>257167.296337</td>\n",
       "      <td>0.0</td>\n",
       "      <td>1.605400</td>\n",
       "      <td>2.125509</td>\n",
       "      <td>0.124779</td>\n",
       "      <td>0.559278</td>\n",
       "      <td>0.491382</td>\n",
       "      <td>-374075.693370</td>\n",
       "      <td>-374075.693370</td>\n",
       "    </tr>\n",
       "    <tr>\n",
       "      <th>mc max uti 5Y</th>\n",
       "      <td>280140.685266</td>\n",
       "      <td>63222.275668</td>\n",
       "      <td>280140.685266</td>\n",
       "      <td>0.0</td>\n",
       "      <td>1.369650</td>\n",
       "      <td>1.866058</td>\n",
       "      <td>0.192723</td>\n",
       "      <td>0.515705</td>\n",
       "      <td>0.515705</td>\n",
       "      <td>-341021.977083</td>\n",
       "      <td>-345797.835522</td>\n",
       "    </tr>\n",
       "    <tr>\n",
       "      <th>mc max sortino 5Y</th>\n",
       "      <td>252811.143620</td>\n",
       "      <td>60522.211255</td>\n",
       "      <td>252811.143620</td>\n",
       "      <td>0.0</td>\n",
       "      <td>1.601418</td>\n",
       "      <td>2.112455</td>\n",
       "      <td>0.161769</td>\n",
       "      <td>0.429626</td>\n",
       "      <td>0.362838</td>\n",
       "      <td>-367496.646248</td>\n",
       "      <td>-367496.646248</td>\n",
       "    </tr>\n",
       "    <tr>\n",
       "      <th>mc min dd 5Y</th>\n",
       "      <td>228771.304958</td>\n",
       "      <td>56385.705703</td>\n",
       "      <td>228771.304958</td>\n",
       "      <td>0.0</td>\n",
       "      <td>1.079275</td>\n",
       "      <td>1.537098</td>\n",
       "      <td>0.120013</td>\n",
       "      <td>0.283421</td>\n",
       "      <td>0.283421</td>\n",
       "      <td>-375233.490017</td>\n",
       "      <td>-375233.490017</td>\n",
       "    </tr>\n",
       "    <tr>\n",
       "      <th>mc max prob 5Y</th>\n",
       "      <td>246629.803146</td>\n",
       "      <td>58792.356712</td>\n",
       "      <td>246629.803146</td>\n",
       "      <td>0.0</td>\n",
       "      <td>1.186723</td>\n",
       "      <td>1.670872</td>\n",
       "      <td>0.141156</td>\n",
       "      <td>0.459575</td>\n",
       "      <td>0.442936</td>\n",
       "      <td>-368056.401007</td>\n",
       "      <td>-370460.657887</td>\n",
       "    </tr>\n",
       "  </tbody>\n",
       "</table>\n",
       "</div>"
      ],
      "text/plain": [
       "                    Expected Cap       Std Cap  Exp Cap < 500k  Prob >= 500k  \\\n",
       "bench6/4 5Y        219358.941579  48735.878902   219358.941579           0.0   \n",
       "bench7/3 5Y        216009.458376  46656.698248   216009.458376           0.0   \n",
       "bench5/5 5Y        219366.743325  49130.051278   219366.743325           0.0   \n",
       "max uti 5Y         281591.540497  67167.006228   281591.540497           0.0   \n",
       "max sortino 5Y     261626.545288  64320.196410   261626.545288           0.0   \n",
       "min mdd 5Y         257167.296337  68183.713581   257167.296337           0.0   \n",
       "mc max uti 5Y      280140.685266  63222.275668   280140.685266           0.0   \n",
       "mc max sortino 5Y  252811.143620  60522.211255   252811.143620           0.0   \n",
       "mc min dd 5Y       228771.304958  56385.705703   228771.304958           0.0   \n",
       "mc max prob 5Y     246629.803146  58792.356712   246629.803146           0.0   \n",
       "\n",
       "                   Expected Annual_sharpe  Expected Annual_sortino  \\\n",
       "bench6/4 5Y                      1.152187                 1.568353   \n",
       "bench7/3 5Y                      0.995753                 1.375427   \n",
       "bench5/5 5Y                      1.142624                 1.509593   \n",
       "max uti 5Y                       1.158030                 1.678318   \n",
       "max sortino 5Y                   1.660710                 2.190347   \n",
       "min mdd 5Y                       1.605400                 2.125509   \n",
       "mc max uti 5Y                    1.369650                 1.866058   \n",
       "mc max sortino 5Y                1.601418                 2.112455   \n",
       "mc min dd 5Y                     1.079275                 1.537098   \n",
       "mc max prob 5Y                   1.186723                 1.670872   \n",
       "\n",
       "                   Expected MDD   ret VaR  ret CVaR        cap VaR  \\\n",
       "bench6/4 5Y            0.174422  0.052542 -0.009234 -376866.326667   \n",
       "bench7/3 5Y            0.232582 -0.034797 -0.105604 -376873.590389   \n",
       "bench5/5 5Y            0.141305  0.121183  0.081306 -377315.569716   \n",
       "max uti 5Y             0.186775  0.543495  0.541983 -354219.647251   \n",
       "max sortino 5Y         0.132939  0.543457  0.522916 -366646.465827   \n",
       "min mdd 5Y             0.124779  0.559278  0.491382 -374075.693370   \n",
       "mc max uti 5Y          0.192723  0.515705  0.515705 -341021.977083   \n",
       "mc max sortino 5Y      0.161769  0.429626  0.362838 -367496.646248   \n",
       "mc min dd 5Y           0.120013  0.283421  0.283421 -375233.490017   \n",
       "mc max prob 5Y         0.141156  0.459575  0.442936 -368056.401007   \n",
       "\n",
       "                        cap CVaR  \n",
       "bench6/4 5Y       -377206.412035  \n",
       "bench7/3 5Y       -377693.034874  \n",
       "bench5/5 5Y       -377437.496748  \n",
       "max uti 5Y        -356494.296161  \n",
       "max sortino 5Y    -368852.958279  \n",
       "min mdd 5Y        -374075.693370  \n",
       "mc max uti 5Y     -345797.835522  \n",
       "mc max sortino 5Y -367496.646248  \n",
       "mc min dd 5Y      -375233.490017  \n",
       "mc max prob 5Y    -370460.657887  "
      ]
     },
     "execution_count": 37,
     "metadata": {},
     "output_type": "execute_result"
    }
   ],
   "source": [
    "df_5Y"
   ]
  },
  {
   "cell_type": "code",
   "execution_count": null,
   "metadata": {},
   "outputs": [],
   "source": []
  }
 ],
 "metadata": {
  "kernelspec": {
   "display_name": "base",
   "language": "python",
   "name": "python3"
  },
  "language_info": {
   "codemirror_mode": {
    "name": "ipython",
    "version": 3
   },
   "file_extension": ".py",
   "mimetype": "text/x-python",
   "name": "python",
   "nbconvert_exporter": "python",
   "pygments_lexer": "ipython3",
   "version": "3.10.0"
  }
 },
 "nbformat": 4,
 "nbformat_minor": 2
}
