{
 "cells": [
  {
   "cell_type": "code",
   "execution_count": 1,
   "metadata": {},
   "outputs": [],
   "source": [
    "import numpy as np\n",
    "import pandas as pd\n",
    "from datetime import datetime\n",
    "import matplotlib.pyplot as plt\n",
    "from matplotlib.pyplot import cm\n",
    "import warnings\n",
    "from tqdm import tqdm\n",
    "warnings.filterwarnings(\"ignore\")"
   ]
  },
  {
   "cell_type": "code",
   "execution_count": 2,
   "metadata": {},
   "outputs": [
    {
     "data": {
      "text/plain": [
       "<module 'McExperiment' from 'd:\\\\OneDriveLenovoD\\\\OneDrive\\\\A_Fall23\\\\FIN535\\\\HW2023\\\\FIN535-Final-23F\\\\Dec20\\\\FIN535-Final-23F\\\\McExperiment.py'>"
      ]
     },
     "execution_count": 2,
     "metadata": {},
     "output_type": "execute_result"
    }
   ],
   "source": [
    "import McExperiment\n",
    "from McExperiment import *\n",
    "import importlib\n",
    "importlib.reload(McExperiment)"
   ]
  },
  {
   "cell_type": "code",
   "execution_count": 3,
   "metadata": {},
   "outputs": [],
   "source": [
    "data = pd.read_csv('data.csv')\n",
    "data['month'] = data['month'].apply(lambda x: datetime.strptime(x, '%Y-%m')) #assume each date per month is the last day\n",
    "data.set_index(['month'],inplace=True)"
   ]
  },
  {
   "cell_type": "markdown",
   "metadata": {},
   "source": [
    "### Run results for best selected allocations"
   ]
  },
  {
   "cell_type": "code",
   "execution_count": 4,
   "metadata": {},
   "outputs": [],
   "source": [
    "# To manually input Allocation ratio ---- \n",
    "\n",
    "alloc_ratio = pd.DataFrame(np.array([[0.6, 0.45, 0.3, 0.7, -0.05], [0.65,0.9,0.45,0.7,-0.55]]),\\\n",
    "    columns = ['x1','x2','x3','x4','x5'], index = ['alloc_1','alloc_2'])\n"
   ]
  },
  {
   "cell_type": "code",
   "execution_count": 5,
   "metadata": {},
   "outputs": [],
   "source": [
    "alloc_car_rst = dict()\n",
    "alloc_car_rst['ratios'] = alloc_ratio\n",
    "alloc_car_rst['Simu_table'] = [] # simulated results before taking the avg\n",
    "alloc_car_rst['Cap_table'] = [] # for the financial diamond construction\n",
    "alloc_car_rst['Summary_table'] = [] # after taking the avg of simulated results, then compute some critical stats\n"
   ]
  },
  {
   "cell_type": "code",
   "execution_count": 6,
   "metadata": {},
   "outputs": [
    {
     "name": "stderr",
     "output_type": "stream",
     "text": [
      "  0%|          | 0/2 [00:00<?, ?it/s]"
     ]
    },
    {
     "name": "stderr",
     "output_type": "stream",
     "text": [
      "100%|██████████| 2/2 [00:18<00:00,  9.03s/it]\n"
     ]
    }
   ],
   "source": [
    "SAVE = 40000\n",
    "CAP = 50000\n",
    "g = 0.11\n",
    "MC = 500\n",
    "path_length = 120 # 10 year\n",
    "tax_rate = 0.25\n",
    "\n",
    "\n",
    "for i in tqdm(range(len(alloc_ratio))):\n",
    "    ratio = (alloc_ratio.iloc[i,:]).to_list()\n",
    "    # Get the analysis for end of 5Y/7Y/9Y \n",
    "    Simu_table, Simu_cap_table = Experiments_car(MC,path_length,data,CAP,SAVE,g,ratio,years=[60,84,120],tax=tax_rate)\n",
    "    Summary_table, cap_table = GetSummary(Simu_table, Simu_cap_table, path_length)\n",
    "    Summary_table = Summary_table.fillna(0)\n",
    "    alloc_car_rst['Simu_table'].append(Simu_table)\n",
    "    alloc_car_rst['Cap_table'].append(cap_table)\n",
    "    alloc_car_rst['Summary_table'].append(Summary_table)"
   ]
  },
  {
   "cell_type": "code",
   "execution_count": 7,
   "metadata": {},
   "outputs": [
    {
     "data": {
      "text/html": [
       "<div>\n",
       "<style scoped>\n",
       "    .dataframe tbody tr th:only-of-type {\n",
       "        vertical-align: middle;\n",
       "    }\n",
       "\n",
       "    .dataframe tbody tr th {\n",
       "        vertical-align: top;\n",
       "    }\n",
       "\n",
       "    .dataframe thead th {\n",
       "        text-align: right;\n",
       "    }\n",
       "</style>\n",
       "<table border=\"1\" class=\"dataframe\">\n",
       "  <thead>\n",
       "    <tr style=\"text-align: right;\">\n",
       "      <th></th>\n",
       "      <th>Expected Cap</th>\n",
       "      <th>Std Cap</th>\n",
       "      <th>Exp Cap &lt; 500k</th>\n",
       "      <th>Prob &gt;= 500k</th>\n",
       "      <th>Expected Annual_sharpe</th>\n",
       "      <th>Expected Annual_sortino</th>\n",
       "      <th>Expected MDD</th>\n",
       "      <th>ret VaR</th>\n",
       "      <th>ret CVaR</th>\n",
       "      <th>cap VaR</th>\n",
       "      <th>cap CVaR</th>\n",
       "    </tr>\n",
       "  </thead>\n",
       "  <tbody>\n",
       "    <tr>\n",
       "      <th>5Y</th>\n",
       "      <td>219133.72</td>\n",
       "      <td>46755.27</td>\n",
       "      <td>219133.72</td>\n",
       "      <td>0.00</td>\n",
       "      <td>1.57</td>\n",
       "      <td>2.07</td>\n",
       "      <td>0.17</td>\n",
       "      <td>0.42</td>\n",
       "      <td>0.41</td>\n",
       "      <td>-373530.90</td>\n",
       "      <td>-376691.23</td>\n",
       "    </tr>\n",
       "    <tr>\n",
       "      <th>7Y</th>\n",
       "      <td>365106.20</td>\n",
       "      <td>72101.61</td>\n",
       "      <td>361740.34</td>\n",
       "      <td>0.02</td>\n",
       "      <td>1.53</td>\n",
       "      <td>2.03</td>\n",
       "      <td>0.19</td>\n",
       "      <td>0.94</td>\n",
       "      <td>0.94</td>\n",
       "      <td>-289333.04</td>\n",
       "      <td>-289333.04</td>\n",
       "    </tr>\n",
       "    <tr>\n",
       "      <th>10Y</th>\n",
       "      <td>785191.21</td>\n",
       "      <td>153239.22</td>\n",
       "      <td>484354.09</td>\n",
       "      <td>1.00</td>\n",
       "      <td>1.64</td>\n",
       "      <td>2.23</td>\n",
       "      <td>0.20</td>\n",
       "      <td>1.95</td>\n",
       "      <td>1.95</td>\n",
       "      <td>26689.54</td>\n",
       "      <td>21397.61</td>\n",
       "    </tr>\n",
       "  </tbody>\n",
       "</table>\n",
       "</div>"
      ],
      "text/plain": [
       "     Expected Cap    Std Cap  Exp Cap < 500k  Prob >= 500k  \\\n",
       "5Y      219133.72   46755.27       219133.72          0.00   \n",
       "7Y      365106.20   72101.61       361740.34          0.02   \n",
       "10Y     785191.21  153239.22       484354.09          1.00   \n",
       "\n",
       "     Expected Annual_sharpe  Expected Annual_sortino  Expected MDD  ret VaR  \\\n",
       "5Y                     1.57                     2.07          0.17     0.42   \n",
       "7Y                     1.53                     2.03          0.19     0.94   \n",
       "10Y                    1.64                     2.23          0.20     1.95   \n",
       "\n",
       "     ret CVaR    cap VaR   cap CVaR  \n",
       "5Y       0.41 -373530.90 -376691.23  \n",
       "7Y       0.94 -289333.04 -289333.04  \n",
       "10Y      1.95   26689.54   21397.61  "
      ]
     },
     "execution_count": 7,
     "metadata": {},
     "output_type": "execute_result"
    }
   ],
   "source": [
    "alloc_car_rst['Summary_table'][0].round(2)"
   ]
  },
  {
   "cell_type": "code",
   "execution_count": 8,
   "metadata": {},
   "outputs": [
    {
     "data": {
      "text/html": [
       "<div>\n",
       "<style scoped>\n",
       "    .dataframe tbody tr th:only-of-type {\n",
       "        vertical-align: middle;\n",
       "    }\n",
       "\n",
       "    .dataframe tbody tr th {\n",
       "        vertical-align: top;\n",
       "    }\n",
       "\n",
       "    .dataframe thead th {\n",
       "        text-align: right;\n",
       "    }\n",
       "</style>\n",
       "<table border=\"1\" class=\"dataframe\">\n",
       "  <thead>\n",
       "    <tr style=\"text-align: right;\">\n",
       "      <th></th>\n",
       "      <th>Expected Cap</th>\n",
       "      <th>Std Cap</th>\n",
       "      <th>Exp Cap &lt; 500k</th>\n",
       "      <th>Prob &gt;= 500k</th>\n",
       "      <th>Expected Annual_sharpe</th>\n",
       "      <th>Expected Annual_sortino</th>\n",
       "      <th>Expected MDD</th>\n",
       "      <th>ret VaR</th>\n",
       "      <th>ret CVaR</th>\n",
       "      <th>cap VaR</th>\n",
       "      <th>cap CVaR</th>\n",
       "    </tr>\n",
       "  </thead>\n",
       "  <tbody>\n",
       "    <tr>\n",
       "      <th>5Y</th>\n",
       "      <td>247635.87</td>\n",
       "      <td>52311.36</td>\n",
       "      <td>247635.87</td>\n",
       "      <td>0.00</td>\n",
       "      <td>1.46</td>\n",
       "      <td>1.96</td>\n",
       "      <td>0.20</td>\n",
       "      <td>0.51</td>\n",
       "      <td>0.48</td>\n",
       "      <td>-346381.56</td>\n",
       "      <td>-354745.41</td>\n",
       "    </tr>\n",
       "    <tr>\n",
       "      <th>7Y</th>\n",
       "      <td>422306.99</td>\n",
       "      <td>67667.07</td>\n",
       "      <td>409453.40</td>\n",
       "      <td>0.09</td>\n",
       "      <td>1.40</td>\n",
       "      <td>1.89</td>\n",
       "      <td>0.23</td>\n",
       "      <td>1.58</td>\n",
       "      <td>1.57</td>\n",
       "      <td>-213958.17</td>\n",
       "      <td>-222870.38</td>\n",
       "    </tr>\n",
       "    <tr>\n",
       "      <th>10Y</th>\n",
       "      <td>1020176.69</td>\n",
       "      <td>197673.04</td>\n",
       "      <td>0.00</td>\n",
       "      <td>1.00</td>\n",
       "      <td>1.51</td>\n",
       "      <td>2.09</td>\n",
       "      <td>0.24</td>\n",
       "      <td>3.04</td>\n",
       "      <td>2.93</td>\n",
       "      <td>192039.92</td>\n",
       "      <td>160935.41</td>\n",
       "    </tr>\n",
       "  </tbody>\n",
       "</table>\n",
       "</div>"
      ],
      "text/plain": [
       "     Expected Cap    Std Cap  Exp Cap < 500k  Prob >= 500k  \\\n",
       "5Y      247635.87   52311.36       247635.87          0.00   \n",
       "7Y      422306.99   67667.07       409453.40          0.09   \n",
       "10Y    1020176.69  197673.04            0.00          1.00   \n",
       "\n",
       "     Expected Annual_sharpe  Expected Annual_sortino  Expected MDD  ret VaR  \\\n",
       "5Y                     1.46                     1.96          0.20     0.51   \n",
       "7Y                     1.40                     1.89          0.23     1.58   \n",
       "10Y                    1.51                     2.09          0.24     3.04   \n",
       "\n",
       "     ret CVaR    cap VaR   cap CVaR  \n",
       "5Y       0.48 -346381.56 -354745.41  \n",
       "7Y       1.57 -213958.17 -222870.38  \n",
       "10Y      2.93  192039.92  160935.41  "
      ]
     },
     "execution_count": 8,
     "metadata": {},
     "output_type": "execute_result"
    }
   ],
   "source": [
    "alloc_car_rst['Summary_table'][1].round(2)"
   ]
  },
  {
   "cell_type": "code",
   "execution_count": 9,
   "metadata": {},
   "outputs": [],
   "source": [
    "with open('storage cache/alloc_car_rst.pkl', 'wb') as file:\n",
    "    pickle.dump(alloc_car_rst, file)"
   ]
  },
  {
   "cell_type": "markdown",
   "metadata": {},
   "source": [
    "### Save the results: Plots and Tables"
   ]
  },
  {
   "cell_type": "code",
   "execution_count": 21,
   "metadata": {},
   "outputs": [],
   "source": [
    "with open('storage cache/alloc_rst.pkl', 'rb') as file:\n",
    "        alloc_rst = pickle.load(file)"
   ]
  },
  {
   "cell_type": "code",
   "execution_count": 25,
   "metadata": {},
   "outputs": [],
   "source": [
    "# Get stat table:\n",
    "ptf_name = ['alloc_1','alloc_2']\n",
    "\n",
    "df_full = pd.concat(alloc_car_rst['Summary_table'])"
   ]
  },
  {
   "cell_type": "code",
   "execution_count": 26,
   "metadata": {},
   "outputs": [
    {
     "data": {
      "text/html": [
       "<div>\n",
       "<style scoped>\n",
       "    .dataframe tbody tr th:only-of-type {\n",
       "        vertical-align: middle;\n",
       "    }\n",
       "\n",
       "    .dataframe tbody tr th {\n",
       "        vertical-align: top;\n",
       "    }\n",
       "\n",
       "    .dataframe thead th {\n",
       "        text-align: right;\n",
       "    }\n",
       "</style>\n",
       "<table border=\"1\" class=\"dataframe\">\n",
       "  <thead>\n",
       "    <tr style=\"text-align: right;\">\n",
       "      <th></th>\n",
       "      <th>Expected Cap</th>\n",
       "      <th>Std Cap</th>\n",
       "      <th>Exp Cap &lt; 500k</th>\n",
       "      <th>Prob &gt;= 500k</th>\n",
       "      <th>Expected Annual_sharpe</th>\n",
       "      <th>Expected Annual_sortino</th>\n",
       "      <th>Expected MDD</th>\n",
       "      <th>ret VaR</th>\n",
       "      <th>ret CVaR</th>\n",
       "      <th>cap VaR</th>\n",
       "      <th>cap CVaR</th>\n",
       "    </tr>\n",
       "  </thead>\n",
       "  <tbody>\n",
       "    <tr>\n",
       "      <th>5Y</th>\n",
       "      <td>2.191337e+05</td>\n",
       "      <td>46755.267926</td>\n",
       "      <td>219133.723508</td>\n",
       "      <td>0.000</td>\n",
       "      <td>1.573021</td>\n",
       "      <td>2.074701</td>\n",
       "      <td>0.167841</td>\n",
       "      <td>0.417708</td>\n",
       "      <td>0.409398</td>\n",
       "      <td>-373530.902238</td>\n",
       "      <td>-376691.229075</td>\n",
       "    </tr>\n",
       "    <tr>\n",
       "      <th>7Y</th>\n",
       "      <td>3.651062e+05</td>\n",
       "      <td>72101.610688</td>\n",
       "      <td>361740.338967</td>\n",
       "      <td>0.020</td>\n",
       "      <td>1.528757</td>\n",
       "      <td>2.029337</td>\n",
       "      <td>0.193703</td>\n",
       "      <td>0.942425</td>\n",
       "      <td>0.942425</td>\n",
       "      <td>-289333.037041</td>\n",
       "      <td>-289333.037041</td>\n",
       "    </tr>\n",
       "    <tr>\n",
       "      <th>10Y</th>\n",
       "      <td>7.851912e+05</td>\n",
       "      <td>153239.224606</td>\n",
       "      <td>484354.085738</td>\n",
       "      <td>0.998</td>\n",
       "      <td>1.636063</td>\n",
       "      <td>2.233839</td>\n",
       "      <td>0.196988</td>\n",
       "      <td>1.946034</td>\n",
       "      <td>1.946034</td>\n",
       "      <td>26689.537415</td>\n",
       "      <td>21397.605955</td>\n",
       "    </tr>\n",
       "    <tr>\n",
       "      <th>5Y</th>\n",
       "      <td>2.476359e+05</td>\n",
       "      <td>52311.361394</td>\n",
       "      <td>247635.869755</td>\n",
       "      <td>0.000</td>\n",
       "      <td>1.455022</td>\n",
       "      <td>1.960773</td>\n",
       "      <td>0.199945</td>\n",
       "      <td>0.514469</td>\n",
       "      <td>0.478071</td>\n",
       "      <td>-346381.562064</td>\n",
       "      <td>-354745.411872</td>\n",
       "    </tr>\n",
       "    <tr>\n",
       "      <th>7Y</th>\n",
       "      <td>4.223070e+05</td>\n",
       "      <td>67667.074069</td>\n",
       "      <td>409453.401072</td>\n",
       "      <td>0.090</td>\n",
       "      <td>1.395590</td>\n",
       "      <td>1.893034</td>\n",
       "      <td>0.232380</td>\n",
       "      <td>1.575191</td>\n",
       "      <td>1.566696</td>\n",
       "      <td>-213958.173582</td>\n",
       "      <td>-222870.381303</td>\n",
       "    </tr>\n",
       "    <tr>\n",
       "      <th>10Y</th>\n",
       "      <td>1.020177e+06</td>\n",
       "      <td>197673.038839</td>\n",
       "      <td>0.000000</td>\n",
       "      <td>1.000</td>\n",
       "      <td>1.511804</td>\n",
       "      <td>2.092525</td>\n",
       "      <td>0.235752</td>\n",
       "      <td>3.043830</td>\n",
       "      <td>2.928418</td>\n",
       "      <td>192039.917049</td>\n",
       "      <td>160935.405283</td>\n",
       "    </tr>\n",
       "  </tbody>\n",
       "</table>\n",
       "</div>"
      ],
      "text/plain": [
       "     Expected Cap        Std Cap  Exp Cap < 500k  Prob >= 500k  \\\n",
       "5Y   2.191337e+05   46755.267926   219133.723508         0.000   \n",
       "7Y   3.651062e+05   72101.610688   361740.338967         0.020   \n",
       "10Y  7.851912e+05  153239.224606   484354.085738         0.998   \n",
       "5Y   2.476359e+05   52311.361394   247635.869755         0.000   \n",
       "7Y   4.223070e+05   67667.074069   409453.401072         0.090   \n",
       "10Y  1.020177e+06  197673.038839        0.000000         1.000   \n",
       "\n",
       "     Expected Annual_sharpe  Expected Annual_sortino  Expected MDD   ret VaR  \\\n",
       "5Y                 1.573021                 2.074701      0.167841  0.417708   \n",
       "7Y                 1.528757                 2.029337      0.193703  0.942425   \n",
       "10Y                1.636063                 2.233839      0.196988  1.946034   \n",
       "5Y                 1.455022                 1.960773      0.199945  0.514469   \n",
       "7Y                 1.395590                 1.893034      0.232380  1.575191   \n",
       "10Y                1.511804                 2.092525      0.235752  3.043830   \n",
       "\n",
       "     ret CVaR        cap VaR       cap CVaR  \n",
       "5Y   0.409398 -373530.902238 -376691.229075  \n",
       "7Y   0.942425 -289333.037041 -289333.037041  \n",
       "10Y  1.946034   26689.537415   21397.605955  \n",
       "5Y   0.478071 -346381.562064 -354745.411872  \n",
       "7Y   1.566696 -213958.173582 -222870.381303  \n",
       "10Y  2.928418  192039.917049  160935.405283  "
      ]
     },
     "execution_count": 26,
     "metadata": {},
     "output_type": "execute_result"
    }
   ],
   "source": [
    "df_full"
   ]
  },
  {
   "cell_type": "code",
   "execution_count": 11,
   "metadata": {},
   "outputs": [],
   "source": [
    "df_5Y = df_full.loc[df_full.index == '5Y']\n",
    "indexstr = [sub + ' 5Y' for sub in ptf_name] \n",
    "df_5Y.index = indexstr\n",
    "df_5Y.to_csv('storage cache/stat_alloc_car_5Y.csv')"
   ]
  },
  {
   "cell_type": "code",
   "execution_count": 12,
   "metadata": {},
   "outputs": [],
   "source": [
    "df_7Y = df_full.loc[df_full.index == '7Y']\n",
    "indexstr = [sub + ' 7Y' for sub in ptf_name] \n",
    "df_7Y.index = indexstr\n",
    "df_7Y.to_csv('storage cache/stat_alloc_car_7Y.csv')"
   ]
  },
  {
   "cell_type": "code",
   "execution_count": 13,
   "metadata": {},
   "outputs": [],
   "source": [
    "df_10Y = df_full.loc[df_full.index == '10Y']\n",
    "indexstr = [sub + ' 10Y' for sub in ptf_name] \n",
    "df_10Y.index = indexstr\n",
    "df_10Y.to_csv('storage cache/stat_alloc_car_10Y.csv')"
   ]
  },
  {
   "cell_type": "code",
   "execution_count": 14,
   "metadata": {},
   "outputs": [
    {
     "data": {
      "text/html": [
       "<div>\n",
       "<style scoped>\n",
       "    .dataframe tbody tr th:only-of-type {\n",
       "        vertical-align: middle;\n",
       "    }\n",
       "\n",
       "    .dataframe tbody tr th {\n",
       "        vertical-align: top;\n",
       "    }\n",
       "\n",
       "    .dataframe thead th {\n",
       "        text-align: right;\n",
       "    }\n",
       "</style>\n",
       "<table border=\"1\" class=\"dataframe\">\n",
       "  <thead>\n",
       "    <tr style=\"text-align: right;\">\n",
       "      <th></th>\n",
       "      <th>Expected Cap</th>\n",
       "      <th>Std Cap</th>\n",
       "      <th>Exp Cap &lt; 500k</th>\n",
       "      <th>Prob &gt;= 500k</th>\n",
       "      <th>Expected Annual_sharpe</th>\n",
       "      <th>Expected Annual_sortino</th>\n",
       "      <th>Expected MDD</th>\n",
       "      <th>ret VaR</th>\n",
       "      <th>ret CVaR</th>\n",
       "      <th>cap VaR</th>\n",
       "      <th>cap CVaR</th>\n",
       "    </tr>\n",
       "  </thead>\n",
       "  <tbody>\n",
       "    <tr>\n",
       "      <th>alloc_1 7Y</th>\n",
       "      <td>365106.195689</td>\n",
       "      <td>72101.610688</td>\n",
       "      <td>361740.338967</td>\n",
       "      <td>0.02</td>\n",
       "      <td>1.528757</td>\n",
       "      <td>2.029337</td>\n",
       "      <td>0.193703</td>\n",
       "      <td>0.942425</td>\n",
       "      <td>0.942425</td>\n",
       "      <td>-289333.037041</td>\n",
       "      <td>-289333.037041</td>\n",
       "    </tr>\n",
       "    <tr>\n",
       "      <th>alloc_2 7Y</th>\n",
       "      <td>422306.992992</td>\n",
       "      <td>67667.074069</td>\n",
       "      <td>409453.401072</td>\n",
       "      <td>0.09</td>\n",
       "      <td>1.395590</td>\n",
       "      <td>1.893034</td>\n",
       "      <td>0.232380</td>\n",
       "      <td>1.575191</td>\n",
       "      <td>1.566696</td>\n",
       "      <td>-213958.173582</td>\n",
       "      <td>-222870.381303</td>\n",
       "    </tr>\n",
       "  </tbody>\n",
       "</table>\n",
       "</div>"
      ],
      "text/plain": [
       "             Expected Cap       Std Cap  Exp Cap < 500k  Prob >= 500k  \\\n",
       "alloc_1 7Y  365106.195689  72101.610688   361740.338967          0.02   \n",
       "alloc_2 7Y  422306.992992  67667.074069   409453.401072          0.09   \n",
       "\n",
       "            Expected Annual_sharpe  Expected Annual_sortino  Expected MDD  \\\n",
       "alloc_1 7Y                1.528757                 2.029337      0.193703   \n",
       "alloc_2 7Y                1.395590                 1.893034      0.232380   \n",
       "\n",
       "             ret VaR  ret CVaR        cap VaR       cap CVaR  \n",
       "alloc_1 7Y  0.942425  0.942425 -289333.037041 -289333.037041  \n",
       "alloc_2 7Y  1.575191  1.566696 -213958.173582 -222870.381303  "
      ]
     },
     "execution_count": 14,
     "metadata": {},
     "output_type": "execute_result"
    }
   ],
   "source": [
    "df_7Y"
   ]
  },
  {
   "cell_type": "code",
   "execution_count": 15,
   "metadata": {},
   "outputs": [
    {
     "data": {
      "image/png": "[encoded data removed]",
      "text/plain": [
       "<Figure size 1000x600 with 1 Axes>"
      ]
     },
     "metadata": {},
     "output_type": "display_data"
    }
   ],
   "source": [
    "# Capital plot\n",
    "df_cap = pd.concat(alloc_car_rst['Cap_table'],axis = 1)\n",
    "df_cap.columns = ptf_name\n",
    "\n",
    "plt.figure(figsize=(10, 6))\n",
    "plt.plot(df_cap)\n",
    "plt.axhline(y=500000, color='grey', linestyle='-')\n",
    "plt.legend(ptf_name)\n",
    "plt.savefig('figures/alloc_car_capitalplot_all.png',bbox_inches='tight')\n",
    "plt.show()\n"
   ]
  },
  {
   "cell_type": "code",
   "execution_count": 24,
   "metadata": {},
   "outputs": [
    {
     "data": {
      "text/html": [
       "<div>\n",
       "<style scoped>\n",
       "    .dataframe tbody tr th:only-of-type {\n",
       "        vertical-align: middle;\n",
       "    }\n",
       "\n",
       "    .dataframe tbody tr th {\n",
       "        vertical-align: top;\n",
       "    }\n",
       "\n",
       "    .dataframe thead th {\n",
       "        text-align: right;\n",
       "    }\n",
       "</style>\n",
       "<table border=\"1\" class=\"dataframe\">\n",
       "  <thead>\n",
       "    <tr style=\"text-align: right;\">\n",
       "      <th></th>\n",
       "      <th>alloc_1</th>\n",
       "      <th>alloc_2</th>\n",
       "    </tr>\n",
       "  </thead>\n",
       "  <tbody>\n",
       "    <tr>\n",
       "      <th>1</th>\n",
       "      <td>56151.039701</td>\n",
       "      <td>58692.530637</td>\n",
       "    </tr>\n",
       "    <tr>\n",
       "      <th>2</th>\n",
       "      <td>89722.983616</td>\n",
       "      <td>95351.385862</td>\n",
       "    </tr>\n",
       "    <tr>\n",
       "      <th>3</th>\n",
       "      <td>127392.987728</td>\n",
       "      <td>137767.83225</td>\n",
       "    </tr>\n",
       "    <tr>\n",
       "      <th>4</th>\n",
       "      <td>169387.299053</td>\n",
       "      <td>187484.743872</td>\n",
       "    </tr>\n",
       "    <tr>\n",
       "      <th>5</th>\n",
       "      <td>219133.723508</td>\n",
       "      <td>247635.869755</td>\n",
       "    </tr>\n",
       "    <tr>\n",
       "      <th>6</th>\n",
       "      <td>278197.690835</td>\n",
       "      <td>315502.749464</td>\n",
       "    </tr>\n",
       "    <tr>\n",
       "      <th>7</th>\n",
       "      <td>365106.195689</td>\n",
       "      <td>422306.992992</td>\n",
       "    </tr>\n",
       "    <tr>\n",
       "      <th>8</th>\n",
       "      <td>477301.225167</td>\n",
       "      <td>574098.974608</td>\n",
       "    </tr>\n",
       "    <tr>\n",
       "      <th>9</th>\n",
       "      <td>620009.126242</td>\n",
       "      <td>781684.901392</td>\n",
       "    </tr>\n",
       "    <tr>\n",
       "      <th>10</th>\n",
       "      <td>785191.212748</td>\n",
       "      <td>1020176.687634</td>\n",
       "    </tr>\n",
       "  </tbody>\n",
       "</table>\n",
       "</div>"
      ],
      "text/plain": [
       "          alloc_1         alloc_2\n",
       "1    56151.039701    58692.530637\n",
       "2    89722.983616    95351.385862\n",
       "3   127392.987728    137767.83225\n",
       "4   169387.299053   187484.743872\n",
       "5   219133.723508   247635.869755\n",
       "6   278197.690835   315502.749464\n",
       "7   365106.195689   422306.992992\n",
       "8   477301.225167   574098.974608\n",
       "9   620009.126242   781684.901392\n",
       "10  785191.212748  1020176.687634"
      ]
     },
     "execution_count": 24,
     "metadata": {},
     "output_type": "execute_result"
    }
   ],
   "source": [
    "df_cap"
   ]
  },
  {
   "cell_type": "markdown",
   "metadata": {},
   "source": [
    "## Financial Diamond"
   ]
  },
  {
   "cell_type": "code",
   "execution_count": 22,
   "metadata": {},
   "outputs": [],
   "source": [
    "def get_loc(year_pts,cap_pts):\n",
    "    # points coordinates follows the order of left up right down left(the last one is left is just to connect the points to draw a full diamond)\n",
    "    x_coor = [year_pts[0],year_pts[1],year_pts[2],year_pts[1],year_pts[0]]\n",
    "    y_coor = [cap_pts[1],cap_pts[2],cap_pts[1],cap_pts[0],cap_pts[1]]\n",
    "    return x_coor, y_coor\n",
    "\n",
    "year_pts = [7,8,9] \n",
    "cap_pts_lst = [[alloc_rst['Cap_table'][i].iloc[6,0],alloc_rst['Cap_table'][i].iloc[7,0], \\\n",
    "    alloc_rst['Cap_table'][i].iloc[8,0]] for i in [0,1]] "
   ]
  },
  {
   "cell_type": "code",
   "execution_count": 23,
   "metadata": {},
   "outputs": [
    {
     "data": {
      "image/png": "[encoded data removed]",
      "text/plain": [
       "<Figure size 640x480 with 1 Axes>"
      ]
     },
     "metadata": {},
     "output_type": "display_data"
    }
   ],
   "source": [
    "color = iter(cm.rainbow(np.linspace(0, 1, 6)))\n",
    "labels = ['alloc_1','alloc_2']\n",
    "fig, ax = plt.subplots()\n",
    "for i in range(len(cap_pts_lst)):\n",
    "    c = next(color)\n",
    "    x_coor, y_coor = get_loc(year_pts,cap_pts_lst[i])\n",
    "    ax.plot(x_coor, y_coor, '-o',alpha = 0.5, label=labels[i],c=c)\n",
    "    ax.plot(x_coor[1], y_coor[0], '-o',alpha = 0.5,c=c)\n",
    "    for j in range(len(x_coor)-1):\n",
    "        # TODO: the location of the annotation will need to be changed so that they don't overlap\n",
    "        if j not in [0,2]:\n",
    "            ax.annotate(f'${round(y_coor[j])}', (x_coor[j]+0.1, y_coor[j]-10000*(i)),fontsize=7)\n",
    "    ax.annotate(f'${round(y_coor[0])}', (x_coor[1]+0.1, y_coor[0]-10000*(i)),fontsize=7)\n",
    "ax.legend()\n",
    "ax.set_title('Financial Diamonds for Allocation Strategies')\n",
    "ax.set_xlabel('Years')\n",
    "ax.set_ylabel('Capitals')\n",
    "ax.grid()"
   ]
  },
  {
   "cell_type": "code",
   "execution_count": null,
   "metadata": {},
   "outputs": [],
   "source": []
  }
 ],
 "metadata": {
  "kernelspec": {
   "display_name": "base",
   "language": "python",
   "name": "python3"
  },
  "language_info": {
   "codemirror_mode": {
    "name": "ipython",
    "version": 3
   },
   "file_extension": ".py",
   "mimetype": "text/x-python",
   "name": "python",
   "nbconvert_exporter": "python",
   "pygments_lexer": "ipython3",
   "version": "3.10.0"
  }
 },
 "nbformat": 4,
 "nbformat_minor": 2
}
